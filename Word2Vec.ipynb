{
  "nbformat": 4,
  "nbformat_minor": 0,
  "metadata": {
    "colab": {
      "name": "Word2Vec.ipynb",
      "provenance": [],
      "toc_visible": true
    },
    "kernelspec": {
      "name": "python3",
      "display_name": "Python 3"
    },
    "accelerator": "GPU"
  },
  "cells": [
    {
      "cell_type": "markdown",
      "metadata": {
        "id": "4F_cjoL8IOgf"
      },
      "source": [
        "# Word 2 Vec\n"
      ]
    },
    {
      "cell_type": "code",
      "metadata": {
        "colab": {
          "base_uri": "https://localhost:8080/"
        },
        "id": "wD9YrYfOZINn",
        "outputId": "8da5d4a1-db1a-434c-943a-4b6e6f922c98"
      },
      "source": [
        "!pip install hazm"
      ],
      "execution_count": null,
      "outputs": [
        {
          "output_type": "stream",
          "text": [
            "Collecting hazm\n",
            "\u001b[?25l  Downloading https://files.pythonhosted.org/packages/22/13/5a7074bc11d20dbbb46239349ac3f85f7edc148b4cf68e9b8c2f8263830c/hazm-0.7.0-py3-none-any.whl (316kB)\n",
            "\r\u001b[K     |█                               | 10kB 25.0MB/s eta 0:00:01\r\u001b[K     |██                              | 20kB 13.4MB/s eta 0:00:01\r\u001b[K     |███                             | 30kB 11.9MB/s eta 0:00:01\r\u001b[K     |████▏                           | 40kB 11.6MB/s eta 0:00:01\r\u001b[K     |█████▏                          | 51kB 8.0MB/s eta 0:00:01\r\u001b[K     |██████▏                         | 61kB 8.6MB/s eta 0:00:01\r\u001b[K     |███████▎                        | 71kB 8.5MB/s eta 0:00:01\r\u001b[K     |████████▎                       | 81kB 8.7MB/s eta 0:00:01\r\u001b[K     |█████████▎                      | 92kB 8.9MB/s eta 0:00:01\r\u001b[K     |██████████▍                     | 102kB 7.8MB/s eta 0:00:01\r\u001b[K     |███████████▍                    | 112kB 7.8MB/s eta 0:00:01\r\u001b[K     |████████████▍                   | 122kB 7.8MB/s eta 0:00:01\r\u001b[K     |█████████████▌                  | 133kB 7.8MB/s eta 0:00:01\r\u001b[K     |██████████████▌                 | 143kB 7.8MB/s eta 0:00:01\r\u001b[K     |███████████████▌                | 153kB 7.8MB/s eta 0:00:01\r\u001b[K     |████████████████▋               | 163kB 7.8MB/s eta 0:00:01\r\u001b[K     |█████████████████▋              | 174kB 7.8MB/s eta 0:00:01\r\u001b[K     |██████████████████▋             | 184kB 7.8MB/s eta 0:00:01\r\u001b[K     |███████████████████▋            | 194kB 7.8MB/s eta 0:00:01\r\u001b[K     |████████████████████▊           | 204kB 7.8MB/s eta 0:00:01\r\u001b[K     |█████████████████████▊          | 215kB 7.8MB/s eta 0:00:01\r\u001b[K     |██████████████████████▊         | 225kB 7.8MB/s eta 0:00:01\r\u001b[K     |███████████████████████▉        | 235kB 7.8MB/s eta 0:00:01\r\u001b[K     |████████████████████████▉       | 245kB 7.8MB/s eta 0:00:01\r\u001b[K     |█████████████████████████▉      | 256kB 7.8MB/s eta 0:00:01\r\u001b[K     |███████████████████████████     | 266kB 7.8MB/s eta 0:00:01\r\u001b[K     |████████████████████████████    | 276kB 7.8MB/s eta 0:00:01\r\u001b[K     |█████████████████████████████   | 286kB 7.8MB/s eta 0:00:01\r\u001b[K     |██████████████████████████████  | 296kB 7.8MB/s eta 0:00:01\r\u001b[K     |███████████████████████████████ | 307kB 7.8MB/s eta 0:00:01\r\u001b[K     |████████████████████████████████| 317kB 7.8MB/s \n",
            "\u001b[?25hCollecting libwapiti>=0.2.1; platform_system != \"Windows\"\n",
            "\u001b[?25l  Downloading https://files.pythonhosted.org/packages/bc/0f/1c9b49bb49821b5856a64ea6fac8d96a619b9f291d1f06999ea98a32c89c/libwapiti-0.2.1.tar.gz (233kB)\n",
            "\u001b[K     |████████████████████████████████| 235kB 12.9MB/s \n",
            "\u001b[?25hCollecting nltk==3.3\n",
            "\u001b[?25l  Downloading https://files.pythonhosted.org/packages/50/09/3b1755d528ad9156ee7243d52aa5cd2b809ef053a0f31b53d92853dd653a/nltk-3.3.0.zip (1.4MB)\n",
            "\u001b[K     |████████████████████████████████| 1.4MB 14.3MB/s \n",
            "\u001b[?25hRequirement already satisfied: six in /usr/local/lib/python3.6/dist-packages (from libwapiti>=0.2.1; platform_system != \"Windows\"->hazm) (1.15.0)\n",
            "Building wheels for collected packages: libwapiti, nltk\n",
            "  Building wheel for libwapiti (setup.py) ... \u001b[?25l\u001b[?25hdone\n",
            "  Created wheel for libwapiti: filename=libwapiti-0.2.1-cp36-cp36m-linux_x86_64.whl size=154310 sha256=798be29e074fb4c7852772423be6b01f344559adbace8fd228b9e7e1d89e9371\n",
            "  Stored in directory: /root/.cache/pip/wheels/66/15/54/4510dce8bb958b1cdd2c47425cbd1e1eecc0480ac9bb1fb9ab\n",
            "  Building wheel for nltk (setup.py) ... \u001b[?25l\u001b[?25hdone\n",
            "  Created wheel for nltk: filename=nltk-3.3-cp36-none-any.whl size=1394470 sha256=f31cd1d9bc1f401126092438e5fbed886a9b45bc8a825aa1d63b470341d6450a\n",
            "  Stored in directory: /root/.cache/pip/wheels/d1/ab/40/3bceea46922767e42986aef7606a600538ca80de6062dc266c\n",
            "Successfully built libwapiti nltk\n",
            "Installing collected packages: libwapiti, nltk, hazm\n",
            "  Found existing installation: nltk 3.2.5\n",
            "    Uninstalling nltk-3.2.5:\n",
            "      Successfully uninstalled nltk-3.2.5\n",
            "Successfully installed hazm-0.7.0 libwapiti-0.2.1 nltk-3.3\n"
          ],
          "name": "stdout"
        }
      ]
    },
    {
      "cell_type": "code",
      "metadata": {
        "id": "dWsYLUipyI3r"
      },
      "source": [
        "import numpy as np\n",
        "import pandas as pd\n",
        "import matplotlib.pyplot as plt\n",
        "\n",
        "from hazm import word_tokenize\n",
        "\n",
        "import gensim\n",
        "from gensim.models.word2vec import Word2Vec\n",
        "from sklearn.manifold import TSNE"
      ],
      "execution_count": null,
      "outputs": []
    },
    {
      "cell_type": "code",
      "metadata": {
        "colab": {
          "base_uri": "https://localhost:8080/"
        },
        "id": "BKl-yDQIzxe-",
        "outputId": "b6474542-d5e2-497c-a5a5-b0dac2c9d960"
      },
      "source": [
        "from google.colab import files\n",
        "from google.colab import drive\n",
        "\n",
        "drive.mount('/content/drive')\n",
        "file = 'drive/MyDrive/digikala_dataset.txt'\n",
        "\n",
        "df = pd.read_csv(file, sep=\"\\t\", header=None, error_bad_lines=False)\n",
        "df.columns = [\"score\", \"comment\"]"
      ],
      "execution_count": null,
      "outputs": [
        {
          "output_type": "stream",
          "text": [
            "Drive already mounted at /content/drive; to attempt to forcibly remount, call drive.mount(\"/content/drive\", force_remount=True).\n"
          ],
          "name": "stdout"
        },
        {
          "output_type": "stream",
          "text": [
            "b'Skipping line 82: expected 2 fields, saw 4\\nSkipping line 2429: expected 2 fields, saw 4\\nSkipping line 3944: expected 2 fields, saw 4\\nSkipping line 5847: expected 2 fields, saw 5\\nSkipping line 6639: expected 2 fields, saw 3\\nSkipping line 9319: expected 2 fields, saw 3\\nSkipping line 12082: expected 2 fields, saw 17\\nSkipping line 13159: expected 2 fields, saw 3\\nSkipping line 14444: expected 2 fields, saw 6\\nSkipping line 15109: expected 2 fields, saw 5\\nSkipping line 16391: expected 2 fields, saw 29\\nSkipping line 19098: expected 2 fields, saw 7\\nSkipping line 19714: expected 2 fields, saw 3\\nSkipping line 23227: expected 2 fields, saw 4\\nSkipping line 24211: expected 2 fields, saw 5\\nSkipping line 26373: expected 2 fields, saw 3\\nSkipping line 29248: expected 2 fields, saw 5\\nSkipping line 31275: expected 2 fields, saw 8\\nSkipping line 31376: expected 2 fields, saw 3\\nSkipping line 35116: expected 2 fields, saw 3\\nSkipping line 36097: expected 2 fields, saw 3\\nSkipping line 40447: expected 2 fields, saw 7\\nSkipping line 41285: expected 2 fields, saw 15\\nSkipping line 44095: expected 2 fields, saw 3\\nSkipping line 51631: expected 2 fields, saw 10\\nSkipping line 55007: expected 2 fields, saw 4\\nSkipping line 59460: expected 2 fields, saw 8\\nSkipping line 62495: expected 2 fields, saw 3\\nSkipping line 62792: expected 2 fields, saw 8\\nSkipping line 63425: expected 2 fields, saw 17\\nSkipping line 66099: expected 2 fields, saw 3\\nSkipping line 68102: expected 2 fields, saw 3\\nSkipping line 68128: expected 2 fields, saw 3\\nSkipping line 70718: expected 2 fields, saw 3\\nSkipping line 72164: expected 2 fields, saw 11\\nSkipping line 74963: expected 2 fields, saw 4\\nSkipping line 76976: expected 2 fields, saw 3\\nSkipping line 77451: expected 2 fields, saw 3\\nSkipping line 78433: expected 2 fields, saw 11\\nSkipping line 80328: expected 2 fields, saw 8\\nSkipping line 80721: expected 2 fields, saw 9\\nSkipping line 83537: expected 2 fields, saw 4\\nSkipping line 83621: expected 2 fields, saw 6\\nSkipping line 86192: expected 2 fields, saw 11\\nSkipping line 87946: expected 2 fields, saw 3\\nSkipping line 89438: expected 2 fields, saw 3\\nSkipping line 90649: expected 2 fields, saw 3\\nSkipping line 91675: expected 2 fields, saw 14\\nSkipping line 93385: expected 2 fields, saw 8\\nSkipping line 93529: expected 2 fields, saw 3\\nSkipping line 94536: expected 2 fields, saw 4\\nSkipping line 95143: expected 2 fields, saw 3\\nSkipping line 96908: expected 2 fields, saw 3\\nSkipping line 97798: expected 2 fields, saw 6\\nSkipping line 100778: expected 2 fields, saw 4\\nSkipping line 107434: expected 2 fields, saw 6\\nSkipping line 107519: expected 2 fields, saw 77\\nSkipping line 110910: expected 2 fields, saw 4\\nSkipping line 111842: expected 2 fields, saw 3\\nSkipping line 114108: expected 2 fields, saw 6\\nSkipping line 118389: expected 2 fields, saw 12\\nSkipping line 121837: expected 2 fields, saw 6\\nSkipping line 122698: expected 2 fields, saw 6\\nSkipping line 123993: expected 2 fields, saw 3\\nSkipping line 124295: expected 2 fields, saw 5\\nSkipping line 131399: expected 2 fields, saw 4\\nSkipping line 134801: expected 2 fields, saw 13\\nSkipping line 137363: expected 2 fields, saw 12\\nSkipping line 138830: expected 2 fields, saw 7\\nSkipping line 139296: expected 2 fields, saw 3\\nSkipping line 143933: expected 2 fields, saw 10\\nSkipping line 144902: expected 2 fields, saw 14\\nSkipping line 147018: expected 2 fields, saw 16\\nSkipping line 148589: expected 2 fields, saw 4\\nSkipping line 152116: expected 2 fields, saw 14\\nSkipping line 159450: expected 2 fields, saw 11\\nSkipping line 161745: expected 2 fields, saw 4\\nSkipping line 162593: expected 2 fields, saw 3\\nSkipping line 163131: expected 2 fields, saw 4\\nSkipping line 167746: expected 2 fields, saw 3\\nSkipping line 168576: expected 2 fields, saw 3\\nSkipping line 170925: expected 2 fields, saw 6\\nSkipping line 177477: expected 2 fields, saw 13\\nSkipping line 179312: expected 2 fields, saw 13\\nSkipping line 180606: expected 2 fields, saw 3\\nSkipping line 181428: expected 2 fields, saw 3\\nSkipping line 181654: expected 2 fields, saw 3\\nSkipping line 182169: expected 2 fields, saw 6\\nSkipping line 183047: expected 2 fields, saw 10\\nSkipping line 184673: expected 2 fields, saw 3\\nSkipping line 188739: expected 2 fields, saw 3\\nSkipping line 191919: expected 2 fields, saw 3\\nSkipping line 192353: expected 2 fields, saw 27\\nSkipping line 192478: expected 2 fields, saw 4\\nSkipping line 197472: expected 2 fields, saw 13\\nSkipping line 199647: expected 2 fields, saw 3\\n'\n"
          ],
          "name": "stderr"
        }
      ]
    },
    {
      "cell_type": "code",
      "metadata": {
        "colab": {
          "base_uri": "https://localhost:8080/",
          "height": 194
        },
        "id": "XYRIJJ57z1Rl",
        "outputId": "b3a28bb3-e5ca-4643-ae74-63aae61d0360"
      },
      "source": [
        "df.head()"
      ],
      "execution_count": null,
      "outputs": [
        {
          "output_type": "execute_result",
          "data": {
            "text/html": [
              "<div>\n",
              "<style scoped>\n",
              "    .dataframe tbody tr th:only-of-type {\n",
              "        vertical-align: middle;\n",
              "    }\n",
              "\n",
              "    .dataframe tbody tr th {\n",
              "        vertical-align: top;\n",
              "    }\n",
              "\n",
              "    .dataframe thead th {\n",
              "        text-align: right;\n",
              "    }\n",
              "</style>\n",
              "<table border=\"1\" class=\"dataframe\">\n",
              "  <thead>\n",
              "    <tr style=\"text-align: right;\">\n",
              "      <th></th>\n",
              "      <th>score</th>\n",
              "      <th>comment</th>\n",
              "    </tr>\n",
              "  </thead>\n",
              "  <tbody>\n",
              "    <tr>\n",
              "      <th>0</th>\n",
              "      <td>0</td>\n",
              "      <td>لطفا رنگ سفید رو هم موجود کنید</td>\n",
              "    </tr>\n",
              "    <tr>\n",
              "      <th>1</th>\n",
              "      <td>0</td>\n",
              "      <td>با سلام؛ من همین الان میخواستم نوک مدادی بخرم ...</td>\n",
              "    </tr>\n",
              "    <tr>\n",
              "      <th>2</th>\n",
              "      <td>0</td>\n",
              "      <td>من یه روز گذاشتم شارژ 12 روز شارژ داشت</td>\n",
              "    </tr>\n",
              "    <tr>\n",
              "      <th>3</th>\n",
              "      <td>0</td>\n",
              "      <td>برای خاموش کردن نوار چراغ پایین گوشی از برنامه...</td>\n",
              "    </tr>\n",
              "    <tr>\n",
              "      <th>4</th>\n",
              "      <td>0</td>\n",
              "      <td>سلام بر دیجی کالا من میخواستم امروز بخرم ولی ا...</td>\n",
              "    </tr>\n",
              "  </tbody>\n",
              "</table>\n",
              "</div>"
            ],
            "text/plain": [
              "   score                                            comment\n",
              "0      0                     لطفا رنگ سفید رو هم موجود کنید\n",
              "1      0  با سلام؛ من همین الان میخواستم نوک مدادی بخرم ...\n",
              "2      0             من یه روز گذاشتم شارژ 12 روز شارژ داشت\n",
              "3      0  برای خاموش کردن نوار چراغ پایین گوشی از برنامه...\n",
              "4      0  سلام بر دیجی کالا من میخواستم امروز بخرم ولی ا..."
            ]
          },
          "metadata": {
            "tags": []
          },
          "execution_count": 7
        }
      ]
    },
    {
      "cell_type": "code",
      "metadata": {
        "id": "NQPmKTp8ywYU"
      },
      "source": [
        "# Storing comments in list\n",
        "comments = [comment for comment in df.comment]"
      ],
      "execution_count": null,
      "outputs": []
    },
    {
      "cell_type": "code",
      "metadata": {
        "id": "6AblrOtwyyhl"
      },
      "source": [
        "# converting each sentence to list of words and inserting in sents\n",
        "sents = [word_tokenize(comment) for comment in comments]"
      ],
      "execution_count": null,
      "outputs": []
    },
    {
      "cell_type": "code",
      "metadata": {
        "colab": {
          "base_uri": "https://localhost:8080/"
        },
        "id": "qGx4QsHX8e-1",
        "outputId": "e58ae32e-e722-40b3-8006-c5fc2d01bdd2"
      },
      "source": [
        "# example\n",
        "sents[0]"
      ],
      "execution_count": null,
      "outputs": [
        {
          "output_type": "execute_result",
          "data": {
            "text/plain": [
              "['لطفا', 'رنگ', 'سفید', 'رو', 'هم', 'موجود', 'کنید']"
            ]
          },
          "metadata": {
            "tags": []
          },
          "execution_count": 10
        }
      ]
    },
    {
      "cell_type": "markdown",
      "metadata": {
        "id": "HBZga5u1aTmK"
      },
      "source": [
        "#Word2vec "
      ]
    },
    {
      "cell_type": "markdown",
      "metadata": {
        "id": "pcECqj1oaonr"
      },
      "source": [
        "##size  = 64 /min count = 1"
      ]
    },
    {
      "cell_type": "code",
      "metadata": {
        "id": "FfXEd9PizJDT"
      },
      "source": [
        "model = Word2Vec(sentences=sents, size=64, window=10, min_count=5, workers=5)"
      ],
      "execution_count": null,
      "outputs": []
    },
    {
      "cell_type": "code",
      "metadata": {
        "colab": {
          "base_uri": "https://localhost:8080/"
        },
        "id": "YAYU1Q70Kwm0",
        "outputId": "4b7469fa-9138-4626-8fe8-c2d13ffea699"
      },
      "source": [
        "len(model.wv.vocab)"
      ],
      "execution_count": null,
      "outputs": [
        {
          "output_type": "execute_result",
          "data": {
            "text/plain": [
              "32492"
            ]
          },
          "metadata": {
            "tags": []
          },
          "execution_count": 12
        }
      ]
    },
    {
      "cell_type": "code",
      "metadata": {
        "id": "J01-ccL9-wBx",
        "colab": {
          "base_uri": "https://localhost:8080/"
        },
        "outputId": "f738f36a-1518-41a9-8ad6-e6e4d32cf103"
      },
      "source": [
        "# Check similarity\n",
        "model.similarity('دیجیکالا', 'فروشگاه')"
      ],
      "execution_count": null,
      "outputs": [
        {
          "output_type": "stream",
          "text": [
            "/usr/local/lib/python3.6/dist-packages/ipykernel_launcher.py:2: DeprecationWarning: Call to deprecated `similarity` (Method will be removed in 4.0.0, use self.wv.similarity() instead).\n",
            "  \n"
          ],
          "name": "stderr"
        },
        {
          "output_type": "execute_result",
          "data": {
            "text/plain": [
              "0.5334663"
            ]
          },
          "metadata": {
            "tags": []
          },
          "execution_count": 13
        }
      ]
    },
    {
      "cell_type": "code",
      "metadata": {
        "colab": {
          "base_uri": "https://localhost:8080/"
        },
        "id": "6RzpjgUUcOiS",
        "outputId": "a51fa3ba-0d8d-4c3f-d2a0-4bbe68a6e45d"
      },
      "source": [
        "# Another example\n",
        "model.most_similar('گوشی', topn=15)"
      ],
      "execution_count": null,
      "outputs": [
        {
          "output_type": "stream",
          "text": [
            "/usr/local/lib/python3.6/dist-packages/ipykernel_launcher.py:2: DeprecationWarning: Call to deprecated `most_similar` (Method will be removed in 4.0.0, use self.wv.most_similar() instead).\n",
            "  \n"
          ],
          "name": "stderr"
        },
        {
          "output_type": "execute_result",
          "data": {
            "text/plain": [
              "[('کوشی', 0.7310016751289368),\n",
              " ('فبلت', 0.6350020170211792),\n",
              " ('گوشیه', 0.6286436319351196),\n",
              " ('تبلت', 0.6135396361351013),\n",
              " ('برند', 0.562787652015686),\n",
              " ('موبایل', 0.5406108498573303),\n",
              " ('اسمارتفون', 0.526366114616394),\n",
              " ('کمپانی', 0.5099919438362122),\n",
              " ('ویژگی', 0.5073806047439575),\n",
              " ('محصول', 0.498540997505188),\n",
              " ('گجت', 0.4927389621734619),\n",
              " ('مزیت', 0.48778393864631653),\n",
              " ('مارک', 0.4868602752685547),\n",
              " ('پرچمدار', 0.48285019397735596),\n",
              " ('دیواس', 0.46105432510375977)]"
            ]
          },
          "metadata": {
            "tags": []
          },
          "execution_count": 14
        }
      ]
    },
    {
      "cell_type": "code",
      "metadata": {
        "colab": {
          "base_uri": "https://localhost:8080/"
        },
        "id": "cyhOdf8ufKy2",
        "outputId": "07308eb4-bbf5-4c91-a39d-dcab51aca5c8"
      },
      "source": [
        "# Another example\n",
        "model.most_similar('عالی', topn=15)"
      ],
      "execution_count": null,
      "outputs": [
        {
          "output_type": "stream",
          "text": [
            "/usr/local/lib/python3.6/dist-packages/ipykernel_launcher.py:2: DeprecationWarning: Call to deprecated `most_similar` (Method will be removed in 4.0.0, use self.wv.most_similar() instead).\n",
            "  \n"
          ],
          "name": "stderr"
        },
        {
          "output_type": "execute_result",
          "data": {
            "text/plain": [
              "[('خوب', 0.8146510124206543),\n",
              " ('عالیی', 0.7441064119338989),\n",
              " ('عالیه', 0.7411764860153198),\n",
              " ('محشر', 0.7372027635574341),\n",
              " ('بینظیر', 0.7327728271484375),\n",
              " ('باکیفیت', 0.6945533156394958),\n",
              " ('روان', 0.6856202483177185),\n",
              " ('فوقالعاده', 0.6829501390457153),\n",
              " ('عاااالی', 0.682911217212677),\n",
              " ('عالیش', 0.6690618395805359),\n",
              " ('عالییی', 0.6622269153594971),\n",
              " ('افتضاح', 0.6500575542449951),\n",
              " ('خوبی', 0.6399007439613342),\n",
              " ('بینظیره', 0.636671781539917),\n",
              " ('محشره', 0.6346702575683594)]"
            ]
          },
          "metadata": {
            "tags": []
          },
          "execution_count": 24
        }
      ]
    },
    {
      "cell_type": "code",
      "metadata": {
        "colab": {
          "base_uri": "https://localhost:8080/"
        },
        "id": "xeRckMZ6d4_q",
        "outputId": "d2c082d9-3f66-49f2-822a-a6f41d70a2a1"
      },
      "source": [
        "result = model.most_similar(positive=['گران', 'عالی'], negative=['ارزان'])\n",
        "most_similar_key, similarity = result[0]  # look at the first match\n",
        "print(f\"{most_similar_key}: {similarity:.4f}\")"
      ],
      "execution_count": null,
      "outputs": [
        {
          "output_type": "stream",
          "text": [
            "خوب: 0.7938\n"
          ],
          "name": "stdout"
        },
        {
          "output_type": "stream",
          "text": [
            "/usr/local/lib/python3.6/dist-packages/ipykernel_launcher.py:1: DeprecationWarning: Call to deprecated `most_similar` (Method will be removed in 4.0.0, use self.wv.most_similar() instead).\n",
            "  \"\"\"Entry point for launching an IPython kernel.\n"
          ],
          "name": "stderr"
        }
      ]
    },
    {
      "cell_type": "code",
      "metadata": {
        "colab": {
          "base_uri": "https://localhost:8080/"
        },
        "id": "8ZwJ6KDUgZkz",
        "outputId": "06930509-a2d4-43ce-b5ff-7af9335d93e1"
      },
      "source": [
        "result = model.similar_by_word('یخچال')\n",
        "most_similar_key, similarity = result[0]  # look at the first match\n",
        "print(f\"{most_similar_key}: {similarity:.4f}\")"
      ],
      "execution_count": null,
      "outputs": [
        {
          "output_type": "stream",
          "text": [
            "لباسشویی: 0.8549\n"
          ],
          "name": "stdout"
        },
        {
          "output_type": "stream",
          "text": [
            "/usr/local/lib/python3.6/dist-packages/ipykernel_launcher.py:1: DeprecationWarning: Call to deprecated `similar_by_word` (Method will be removed in 4.0.0, use self.wv.similar_by_word() instead).\n",
            "  \"\"\"Entry point for launching an IPython kernel.\n"
          ],
          "name": "stderr"
        }
      ]
    },
    {
      "cell_type": "code",
      "metadata": {
        "colab": {
          "base_uri": "https://localhost:8080/"
        },
        "id": "WBKNJyzNhzkj",
        "outputId": "56637573-39ea-4d10-8f2c-211dfec0757a"
      },
      "source": [
        "# similarity between two different words\n",
        "model.wv.similarity(w1=\"یخچال\",w2=\"گوشی\")"
      ],
      "execution_count": null,
      "outputs": [
        {
          "output_type": "execute_result",
          "data": {
            "text/plain": [
              "0.017632063"
            ]
          },
          "metadata": {
            "tags": []
          },
          "execution_count": 22
        }
      ]
    },
    {
      "cell_type": "code",
      "metadata": {
        "colab": {
          "base_uri": "https://localhost:8080/"
        },
        "id": "eKpHoARg8V5g",
        "outputId": "9209511b-0760-4e5b-b296-5db57f3ece4f"
      },
      "source": [
        "# similarity between two different words\n",
        "model.wv.similarity(w1=\"یخچال\",w2=\"لباسشویی\")"
      ],
      "execution_count": null,
      "outputs": [
        {
          "output_type": "execute_result",
          "data": {
            "text/plain": [
              "0.8055693"
            ]
          },
          "metadata": {
            "tags": []
          },
          "execution_count": 23
        }
      ]
    },
    {
      "cell_type": "code",
      "metadata": {
        "colab": {
          "base_uri": "https://localhost:8080/"
        },
        "id": "H6nNdupIovgW",
        "outputId": "28f9c75a-b72e-4e79-cba8-431b09d46f1e"
      },
      "source": [
        "# Another example\n",
        "model.most_similar('S4', topn=15)"
      ],
      "execution_count": null,
      "outputs": [
        {
          "output_type": "stream",
          "text": [
            "/usr/local/lib/python3.6/dist-packages/ipykernel_launcher.py:2: DeprecationWarning: Call to deprecated `most_similar` (Method will be removed in 4.0.0, use self.wv.most_similar() instead).\n",
            "  \n"
          ],
          "name": "stderr"
        },
        {
          "output_type": "execute_result",
          "data": {
            "text/plain": [
              "[('S3', 0.9131098985671997),\n",
              " ('S5', 0.901274561882019),\n",
              " ('SIII', 0.8685224056243896),\n",
              " ('note3', 0.85871821641922),\n",
              " ('s2', 0.8469582796096802),\n",
              " ('s4', 0.840434193611145),\n",
              " ('A5', 0.815747082233429),\n",
              " ('note4', 0.8056498765945435),\n",
              " ('s3', 0.8049930930137634),\n",
              " ('G2', 0.8026212453842163),\n",
              " ('Z2', 0.8005984425544739),\n",
              " ('note2', 0.7955759763717651),\n",
              " ('GALAXY', 0.7932685613632202),\n",
              " ('Z3', 0.7876250147819519),\n",
              " ('Z1', 0.7875998020172119)]"
            ]
          },
          "metadata": {
            "tags": []
          },
          "execution_count": 56
        }
      ]
    },
    {
      "cell_type": "markdown",
      "metadata": {
        "id": "1dAMRoiuc2w7"
      },
      "source": [
        "##size  = 64 / min count = 500"
      ]
    },
    {
      "cell_type": "code",
      "metadata": {
        "id": "DxH0vVN0gYm8"
      },
      "source": [
        "model_1 = Word2Vec(sentences=sents, size=500, window=10, min_count=45, workers=5)"
      ],
      "execution_count": null,
      "outputs": []
    },
    {
      "cell_type": "code",
      "metadata": {
        "colab": {
          "base_uri": "https://localhost:8080/"
        },
        "id": "oud78IyMmWWF",
        "outputId": "40c084fd-3c2c-423d-e052-67dd336ca745"
      },
      "source": [
        "len(model_1.wv.vocab)"
      ],
      "execution_count": null,
      "outputs": [
        {
          "output_type": "execute_result",
          "data": {
            "text/plain": [
              "8772"
            ]
          },
          "metadata": {
            "tags": []
          },
          "execution_count": 18
        }
      ]
    },
    {
      "cell_type": "code",
      "metadata": {
        "colab": {
          "base_uri": "https://localhost:8080/"
        },
        "id": "G5rRJbw1mZ5U",
        "outputId": "ad4e70df-231b-49b1-f0d8-f04e6c5f9934"
      },
      "source": [
        "# Another example\n",
        "model_1.most_similar('گوشی', topn=15)"
      ],
      "execution_count": null,
      "outputs": [
        {
          "output_type": "stream",
          "text": [
            "/usr/local/lib/python3.6/dist-packages/ipykernel_launcher.py:2: DeprecationWarning: Call to deprecated `most_similar` (Method will be removed in 4.0.0, use self.wv.most_similar() instead).\n",
            "  \n"
          ],
          "name": "stderr"
        },
        {
          "output_type": "execute_result",
          "data": {
            "text/plain": [
              "[('کوشی', 0.6310595273971558),\n",
              " ('گوشیه', 0.5702950358390808),\n",
              " ('فبلت', 0.5063264966011047),\n",
              " ('تبلت', 0.4817050099372864),\n",
              " ('گوشیو', 0.43918630480766296),\n",
              " ('موبایل', 0.42916762828826904),\n",
              " ('گجت', 0.40802624821662903),\n",
              " ('گوشیرو', 0.4011053442955017),\n",
              " ('دستگاه', 0.39492267370224),\n",
              " ('محصول', 0.38315656781196594),\n",
              " ('برند', 0.37975654006004333),\n",
              " ('گوسی', 0.3791055977344513),\n",
              " ('اسمارتفون', 0.3681744933128357),\n",
              " ('پرچمدار', 0.3536055088043213),\n",
              " ('گشی', 0.3486628532409668)]"
            ]
          },
          "metadata": {
            "tags": []
          },
          "execution_count": 49
        }
      ]
    },
    {
      "cell_type": "code",
      "metadata": {
        "colab": {
          "base_uri": "https://localhost:8080/"
        },
        "id": "_WvSeabz5yUE",
        "outputId": "435e1274-6ea8-473e-a18f-272110799877"
      },
      "source": [
        "# Check similarity\n",
        "model.similarity('دیجیکالا', 'فروشگاه')"
      ],
      "execution_count": null,
      "outputs": [
        {
          "output_type": "stream",
          "text": [
            "/usr/local/lib/python3.6/dist-packages/ipykernel_launcher.py:2: DeprecationWarning: Call to deprecated `similarity` (Method will be removed in 4.0.0, use self.wv.similarity() instead).\n",
            "  \n"
          ],
          "name": "stderr"
        },
        {
          "output_type": "execute_result",
          "data": {
            "text/plain": [
              "0.5334663"
            ]
          },
          "metadata": {
            "tags": []
          },
          "execution_count": 15
        }
      ]
    },
    {
      "cell_type": "code",
      "metadata": {
        "colab": {
          "base_uri": "https://localhost:8080/"
        },
        "id": "6wV7ZySGm2Bv",
        "outputId": "e7883967-b2a1-4fca-fad4-0ddc0d76fd86"
      },
      "source": [
        "# Another example\n",
        "model_1.most_similar('عالی', topn=15)"
      ],
      "execution_count": null,
      "outputs": [
        {
          "output_type": "stream",
          "text": [
            "/usr/local/lib/python3.6/dist-packages/ipykernel_launcher.py:2: DeprecationWarning: Call to deprecated `most_similar` (Method will be removed in 4.0.0, use self.wv.most_similar() instead).\n",
            "  \n"
          ],
          "name": "stderr"
        },
        {
          "output_type": "execute_result",
          "data": {
            "text/plain": [
              "[('خوب', 0.6999647617340088),\n",
              " ('عالیه', 0.6528136730194092),\n",
              " ('عالیی', 0.5937995910644531),\n",
              " ('محشر', 0.5775324106216431),\n",
              " ('فوقالعاده', 0.5631678104400635),\n",
              " ('عاااالی', 0.5597151517868042),\n",
              " ('بینظیره', 0.5569300055503845),\n",
              " ('زیبا', 0.5455509424209595),\n",
              " ('محشره', 0.5446728467941284),\n",
              " ('خوبی', 0.5388354659080505),\n",
              " ('عالیست', 0.5373048782348633),\n",
              " ('بینظیر', 0.5245996117591858),\n",
              " ('باکیفیت', 0.5184665322303772),\n",
              " ('مناسب', 0.5177444815635681),\n",
              " ('عالیش', 0.5088787078857422)]"
            ]
          },
          "metadata": {
            "tags": []
          },
          "execution_count": 50
        }
      ]
    },
    {
      "cell_type": "code",
      "metadata": {
        "colab": {
          "base_uri": "https://localhost:8080/"
        },
        "id": "TzmLIgWc6nw1",
        "outputId": "bac454b8-c17b-465c-c61f-7bbd6cc128c4"
      },
      "source": [
        "model['digikala']"
      ],
      "execution_count": null,
      "outputs": [
        {
          "output_type": "stream",
          "text": [
            "/usr/local/lib/python3.6/dist-packages/ipykernel_launcher.py:1: DeprecationWarning: Call to deprecated `__getitem__` (Method will be removed in 4.0.0, use self.wv.__getitem__() instead).\n",
            "  \"\"\"Entry point for launching an IPython kernel.\n"
          ],
          "name": "stderr"
        },
        {
          "output_type": "execute_result",
          "data": {
            "text/plain": [
              "array([-0.05561734,  0.09815793, -0.17630674, -0.39007276, -0.533914  ,\n",
              "       -0.42278972, -0.3968561 , -0.06973647, -0.02064776, -0.32660612,\n",
              "        0.32429162,  0.9749152 , -0.7248615 ,  0.7641468 ,  0.9136571 ,\n",
              "        0.52991724,  0.32197815, -0.7278324 ,  0.25209498, -0.5927876 ,\n",
              "       -0.26421824,  0.33185542,  0.07571801,  1.2676275 , -0.14295034,\n",
              "        0.7038057 ,  0.85988915, -0.270338  , -0.0482309 ,  0.06091291,\n",
              "        1.0045956 , -0.08938032,  1.4373542 , -0.38996428, -1.1569154 ,\n",
              "       -0.02847232,  1.1173664 ,  0.4891499 ,  0.2775733 ,  0.5335835 ,\n",
              "       -0.06888494,  0.70442843,  0.9419705 ,  0.27435076, -1.5338051 ,\n",
              "        0.04816972, -0.27768436, -1.0411314 ,  0.12101926, -1.0186654 ,\n",
              "       -0.6921136 ,  0.351065  ,  0.96114236, -0.28032368, -0.26185787,\n",
              "       -0.06076686,  1.0649902 ,  0.4730369 ,  0.66468006,  0.21664888,\n",
              "       -1.8779482 ,  0.32227623,  0.75151163,  0.2070431 ], dtype=float32)"
            ]
          },
          "metadata": {
            "tags": []
          },
          "execution_count": 25
        }
      ]
    },
    {
      "cell_type": "code",
      "metadata": {
        "colab": {
          "base_uri": "https://localhost:8080/"
        },
        "id": "hLgv0CxDm84V",
        "outputId": "c3be4ae9-3230-4608-cfe1-1c776b436b76"
      },
      "source": [
        "Dresult = model.most_similar(positive=['گران', 'عالی'], negative=['ارزان'])\n",
        "most_similar_key, similarity = result[0]  # look at the first match\n",
        "print(f\"{most_similar_key}: {similarity:.4f}\")"
      ],
      "execution_count": null,
      "outputs": [
        {
          "output_type": "stream",
          "text": [
            "خوب: 0.7938\n"
          ],
          "name": "stdout"
        },
        {
          "output_type": "stream",
          "text": [
            "/usr/local/lib/python3.6/dist-packages/ipykernel_launcher.py:1: DeprecationWarning: Call to deprecated `most_similar` (Method will be removed in 4.0.0, use self.wv.most_similar() instead).\n",
            "  \"\"\"Entry point for launching an IPython kernel.\n"
          ],
          "name": "stderr"
        }
      ]
    },
    {
      "cell_type": "code",
      "metadata": {
        "colab": {
          "base_uri": "https://localhost:8080/"
        },
        "id": "mrTvATc4nKVy",
        "outputId": "0d6feade-8991-4bd7-c131-39fe8804a670"
      },
      "source": [
        "result = model.similar_by_word('یخچال')\n",
        "most_similar_key, similarity = result[0]  # look at the first match\n",
        "print(f\"{most_similar_key}: {similarity:.4f}\")"
      ],
      "execution_count": null,
      "outputs": [
        {
          "output_type": "stream",
          "text": [
            "لباسشویی: 0.8549\n"
          ],
          "name": "stdout"
        },
        {
          "output_type": "stream",
          "text": [
            "/usr/local/lib/python3.6/dist-packages/ipykernel_launcher.py:1: DeprecationWarning: Call to deprecated `similar_by_word` (Method will be removed in 4.0.0, use self.wv.similar_by_word() instead).\n",
            "  \"\"\"Entry point for launching an IPython kernel.\n"
          ],
          "name": "stderr"
        }
      ]
    },
    {
      "cell_type": "code",
      "metadata": {
        "colab": {
          "base_uri": "https://localhost:8080/"
        },
        "id": "vyC2VwZknQB9",
        "outputId": "30b443e9-ce48-4aef-b3a1-9d032b448f76"
      },
      "source": [
        "# similarity between two different words\n",
        "model_1.wv.similarity(w1=\"گوشی\",w2=\"S4\")"
      ],
      "execution_count": null,
      "outputs": [
        {
          "output_type": "execute_result",
          "data": {
            "text/plain": [
              "0.32811368"
            ]
          },
          "metadata": {
            "tags": []
          },
          "execution_count": 54
        }
      ]
    },
    {
      "cell_type": "code",
      "metadata": {
        "colab": {
          "base_uri": "https://localhost:8080/"
        },
        "id": "OjOAPLs5opSP",
        "outputId": "8573d408-df30-4635-9987-a90fb9dc59c2"
      },
      "source": [
        "# Another example\n",
        "model_1.most_similar('S4', topn=15)"
      ],
      "execution_count": null,
      "outputs": [
        {
          "output_type": "stream",
          "text": [
            "/usr/local/lib/python3.6/dist-packages/ipykernel_launcher.py:2: DeprecationWarning: Call to deprecated `most_similar` (Method will be removed in 4.0.0, use self.wv.most_similar() instead).\n",
            "  \n"
          ],
          "name": "stderr"
        },
        {
          "output_type": "execute_result",
          "data": {
            "text/plain": [
              "[('S3', 0.8089423179626465),\n",
              " ('S5', 0.7992942929267883),\n",
              " ('SIII', 0.7799493074417114),\n",
              " ('Samsung', 0.7087080478668213),\n",
              " ('GALAXY', 0.7049573659896851),\n",
              " ('S', 0.6980941295623779),\n",
              " ('Mini', 0.6956166625022888),\n",
              " ('Galaxy', 0.6939382553100586),\n",
              " ('S6', 0.6883549690246582),\n",
              " ('note3', 0.6860137581825256),\n",
              " ('s4', 0.679043173789978),\n",
              " ('III', 0.6780843734741211),\n",
              " ('s2', 0.6754888296127319),\n",
              " ('S7', 0.6732395887374878),\n",
              " ('A5', 0.6699981689453125)]"
            ]
          },
          "metadata": {
            "tags": []
          },
          "execution_count": 55
        }
      ]
    },
    {
      "cell_type": "markdown",
      "metadata": {
        "id": "9OLF9SHKc439"
      },
      "source": [
        "##size  =120    / min count = 500"
      ]
    },
    {
      "cell_type": "code",
      "metadata": {
        "id": "jmCwSRRvc4X0"
      },
      "source": [
        "model_2 = Word2Vec(sentences=sents, size=120, window=10, min_count=500, workers=5)"
      ],
      "execution_count": null,
      "outputs": []
    },
    {
      "cell_type": "code",
      "metadata": {
        "colab": {
          "base_uri": "https://localhost:8080/"
        },
        "id": "AemgMgrs8ctt",
        "outputId": "45e811ec-dbdc-4e55-95c6-2366fd86c1cb"
      },
      "source": [
        "model.save('digikala_words.word2vec')\n",
        "\n",
        "model = gensim.models.Word2Vec.load('digikala_words.word2vec')"
      ],
      "execution_count": null,
      "outputs": [
        {
          "output_type": "stream",
          "text": [
            "/usr/local/lib/python3.6/dist-packages/ipykernel_launcher.py:6: DeprecationWarning: Call to deprecated `__getitem__` (Method will be removed in 4.0.0, use self.wv.__getitem__() instead).\n",
            "  \n"
          ],
          "name": "stderr"
        },
        {
          "output_type": "execute_result",
          "data": {
            "text/plain": [
              "array([-0.9883963 ,  0.87245315, -3.1880429 ,  4.199548  ,  1.5033659 ,\n",
              "        4.0193515 , -0.1607908 , -0.05916908,  1.2775562 , -3.2662983 ,\n",
              "        2.498405  ,  4.8397093 , -4.8786316 , -3.9543204 ,  4.0200615 ,\n",
              "        1.7236812 , -0.33142233,  0.20525356, -1.4022623 , -1.1946064 ,\n",
              "       -3.1958778 , -0.07480579,  1.8221666 ,  0.8264618 , -0.36766344,\n",
              "        0.89200777, -5.2187347 ,  4.6275873 ,  3.2722113 ,  1.0644298 ,\n",
              "       -4.1995273 ,  2.4782584 ,  0.11005473, -2.240709  ,  2.2577422 ,\n",
              "       -0.8048279 , -1.7649347 , -0.01202063,  0.6392627 , -2.176953  ,\n",
              "        2.5199692 ,  0.20594653,  1.625945  ,  2.4293609 , -0.7256602 ,\n",
              "       -0.6431558 ,  0.7204455 , -1.231116  , -1.192437  , -2.336358  ,\n",
              "        1.360269  ,  1.426054  , -3.3778765 ,  2.44727   ,  3.4931614 ,\n",
              "        1.547907  ,  1.4411287 ,  2.3049817 , -1.3345656 , -3.1211822 ,\n",
              "       -1.2647442 ,  0.9267194 , -2.8402534 ,  0.38432485], dtype=float32)"
            ]
          },
          "metadata": {
            "tags": []
          },
          "execution_count": 19
        }
      ]
    },
    {
      "cell_type": "code",
      "metadata": {
        "id": "B1wV-TSEAvLW",
        "colab": {
          "base_uri": "https://localhost:8080/"
        },
        "outputId": "e5e72315-a034-4508-9e44-6c7446bb784f"
      },
      "source": [
        "# Another example\n",
        "model.most_similar('سامسونگ', topn=40)"
      ],
      "execution_count": null,
      "outputs": [
        {
          "output_type": "stream",
          "text": [
            "/usr/local/lib/python3.6/dist-packages/ipykernel_launcher.py:2: DeprecationWarning: Call to deprecated `most_similar` (Method will be removed in 4.0.0, use self.wv.most_similar() instead).\n",
            "  \n"
          ],
          "name": "stderr"
        },
        {
          "output_type": "execute_result",
          "data": {
            "text/plain": [
              "[('سونی', 0.8637323379516602),\n",
              " ('ساسونگ', 0.810050368309021),\n",
              " ('اپل', 0.797051191329956),\n",
              " ('الجی', 0.760317862033844),\n",
              " ('سامی', 0.7533056735992432),\n",
              " ('سامسنگ', 0.7369173765182495),\n",
              " ('هواوی', 0.7248724699020386),\n",
              " ('پرچمدار', 0.7211753129959106),\n",
              " ('خلاقیت', 0.6771047711372375),\n",
              " ('نوآوری', 0.6723159551620483),\n",
              " ('سامسونگم', 0.6656104326248169),\n",
              " ('هوآوی', 0.658871054649353),\n",
              " ('زد5', 0.6570377945899963),\n",
              " ('هواووی', 0.6569939851760864),\n",
              " ('گوشیهاش', 0.6563031077384949),\n",
              " ('سامسونک', 0.6534401178359985),\n",
              " ('نواوری', 0.6514737606048584),\n",
              " ('سامسونگو', 0.6477725505828857),\n",
              " ('هوایی', 0.6472632884979248),\n",
              " ('وسامسونگ', 0.6446535587310791),\n",
              " ('سامسونگه', 0.6413777470588684),\n",
              " ('اس5', 0.63812255859375),\n",
              " ('کمپانی', 0.6325006484985352),\n",
              " ('نوکیا', 0.628798246383667),\n",
              " ('وسونی', 0.6277395486831665),\n",
              " ('امسال', 0.6274687051773071),\n",
              " ('موتورولا', 0.6221310496330261),\n",
              " ('گوشیاش', 0.6200698018074036),\n",
              " ('پرچمدارش', 0.61906898021698),\n",
              " ('اس4', 0.6190230250358582),\n",
              " ('هوواوی', 0.6140101552009583),\n",
              " ('جی4', 0.6097357869148254),\n",
              " ('تقلب', 0.6032618284225464),\n",
              " ('ایفون6', 0.6006350517272949),\n",
              " ('اپله', 0.5952177047729492),\n",
              " ('نوت4', 0.5854834914207458),\n",
              " ('ایفون', 0.5821349024772644),\n",
              " ('ابتکار', 0.5818617343902588),\n",
              " ('نوت3', 0.5817533135414124),\n",
              " ('اریکسون', 0.5781761407852173)]"
            ]
          },
          "metadata": {
            "tags": []
          },
          "execution_count": 44
        }
      ]
    },
    {
      "cell_type": "code",
      "metadata": {
        "colab": {
          "base_uri": "https://localhost:8080/"
        },
        "id": "zZr6_4zQNG-r",
        "outputId": "cfd3bbef-7f8c-492d-cedc-7dd97326556d"
      },
      "source": [
        "# Another example\n",
        "model.most_similar('مرد', topn=40)"
      ],
      "execution_count": null,
      "outputs": [
        {
          "output_type": "stream",
          "text": [
            "/usr/local/lib/python3.6/dist-packages/ipykernel_launcher.py:2: DeprecationWarning: Call to deprecated `most_similar` (Method will be removed in 4.0.0, use self.wv.most_similar() instead).\n",
            "  \n"
          ],
          "name": "stderr"
        },
        {
          "output_type": "execute_result",
          "data": {
            "text/plain": [
              "[('بیا', 0.5862634778022766),\n",
              " ('بگو', 0.5702496767044067),\n",
              " ('جابز', 0.5641626715660095),\n",
              " ('یارو', 0.5628715753555298),\n",
              " ('استیو', 0.5587019920349121),\n",
              " ('اه', 0.5557055473327637),\n",
              " ('دلش', 0.5550365447998047),\n",
              " ('بردار', 0.5487521886825562),\n",
              " ('سامسونگیا', 0.5466666221618652),\n",
              " ('گوشیتو', 0.5418597459793091),\n",
              " ('بهمون', 0.5410630702972412),\n",
              " ('دیوار', 0.5351295471191406),\n",
              " ('هه', 0.5289989113807678),\n",
              " ('تنگ', 0.5288012027740479),\n",
              " ('زخم', 0.519808292388916),\n",
              " ('موندیم', 0.5062283277511597),\n",
              " ('داشتی', 0.5055133104324341),\n",
              " ('ایفونو', 0.505413293838501),\n",
              " ('همینجوری', 0.5030317902565002),\n",
              " ('آوردی', 0.5029327869415283),\n",
              " ('؟؟!!', 0.49989068508148193),\n",
              " ('مارو', 0.49798715114593506),\n",
              " ('مردیم', 0.49741965532302856),\n",
              " ('کیه', 0.49462032318115234),\n",
              " ('بنویس', 0.49421244859695435),\n",
              " ('بزاریش', 0.49251365661621094),\n",
              " ('زدی', 0.49119895696640015),\n",
              " ('نشست', 0.4906596541404724),\n",
              " ('جوش', 0.4901837110519409),\n",
              " ('گوشش', 0.487141877412796),\n",
              " ('!!!!!', 0.48628509044647217),\n",
              " ('خودت', 0.4860193431377411),\n",
              " ('دیدیم', 0.4853851795196533),\n",
              " ('برو', 0.4848800301551819),\n",
              " ('ببین', 0.4825177490711212),\n",
              " ('حرص', 0.4799863398075104),\n",
              " ('اومدیم', 0.4764660596847534),\n",
              " ('خز', 0.47439855337142944),\n",
              " ('خدایا', 0.473071426153183),\n",
              " ('ببر', 0.47229981422424316)]"
            ]
          },
          "metadata": {
            "tags": []
          },
          "execution_count": 37
        }
      ]
    },
    {
      "cell_type": "code",
      "metadata": {
        "colab": {
          "base_uri": "https://localhost:8080/"
        },
        "id": "LAhpbLnGLlp9",
        "outputId": "015ba287-df02-4a74-bee0-44bf9b040a81"
      },
      "source": [
        "dist = np.linalg.norm(model['سامسونگ'] - model['مشکی']) \n",
        "\n",
        "print(dist)\n",
        "\n",
        "model.similarity('سامسونگ', 'مشکی')\n",
        "\n",
        "# model.similarity('سفید', 'مشکی')"
      ],
      "execution_count": null,
      "outputs": [
        {
          "output_type": "stream",
          "text": [
            "26.556282\n"
          ],
          "name": "stdout"
        },
        {
          "output_type": "stream",
          "text": [
            "/usr/local/lib/python3.6/dist-packages/ipykernel_launcher.py:1: DeprecationWarning: Call to deprecated `__getitem__` (Method will be removed in 4.0.0, use self.wv.__getitem__() instead).\n",
            "  \"\"\"Entry point for launching an IPython kernel.\n",
            "/usr/local/lib/python3.6/dist-packages/ipykernel_launcher.py:5: DeprecationWarning: Call to deprecated `similarity` (Method will be removed in 4.0.0, use self.wv.similarity() instead).\n",
            "  \"\"\"\n"
          ],
          "name": "stderr"
        },
        {
          "output_type": "execute_result",
          "data": {
            "text/plain": [
              "-0.040123247"
            ]
          },
          "metadata": {
            "tags": []
          },
          "execution_count": 49
        }
      ]
    },
    {
      "cell_type": "code",
      "metadata": {
        "colab": {
          "base_uri": "https://localhost:8080/"
        },
        "id": "2SB_ynKXDtL4",
        "outputId": "cbc99931-526c-4fb2-ddfe-2aa953ac7178"
      },
      "source": [
        "# Check similarity\n",
        "model.similarity('گوشی', 'مشکی')"
      ],
      "execution_count": null,
      "outputs": [
        {
          "output_type": "stream",
          "text": [
            "/usr/local/lib/python3.6/dist-packages/ipykernel_launcher.py:2: DeprecationWarning: Call to deprecated `similarity` (Method will be removed in 4.0.0, use self.wv.similarity() instead).\n",
            "  \n"
          ],
          "name": "stderr"
        },
        {
          "output_type": "execute_result",
          "data": {
            "text/plain": [
              "-0.0522618"
            ]
          },
          "metadata": {
            "tags": []
          },
          "execution_count": 24
        }
      ]
    }
  ]
}