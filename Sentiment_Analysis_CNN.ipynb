{
  "nbformat": 4,
  "nbformat_minor": 0,
  "metadata": {
    "colab": {
      "name": "Sentiment Analysis CNN.ipynb",
      "provenance": [],
      "collapsed_sections": [],
      "toc_visible": true
    },
    "kernelspec": {
      "name": "python3",
      "display_name": "Python 3"
    },
    "accelerator": "GPU"
  },
  "cells": [
    {
      "cell_type": "code",
      "metadata": {
        "id": "dWsYLUipyI3r"
      },
      "source": [
        "import numpy as np\n",
        "import pandas as pd\n",
        "import matplotlib.pyplot as plt\n",
        "\n",
        "from sklearn.model_selection import train_test_split\n",
        "\n",
        "# Word vectorization and splitting dataset\n",
        "from sklearn.model_selection import train_test_split\n",
        "from keras.preprocessing.text import Tokenizer\n",
        "from keras.preprocessing.sequence import pad_sequences\n",
        "\n",
        "# Building sequential model\n",
        "from keras.models import Sequential\n",
        "from keras.layers import Dense, Dropout, Flatten\n",
        "from keras.layers import Embedding\n",
        "from keras.utils import to_categorical\n",
        "\n",
        "# Convolutional Layers\n",
        "from keras.layers import Conv1D, GlobalMaxPool1D, SpatialDropout1D, MaxPooling1D\n",
        "\n",
        "# Cofigurations\n",
        "from keras.callbacks import ModelCheckpoint\n",
        "\n",
        "# Avoiding warnings\n",
        "import warnings\n",
        "import os"
      ],
      "execution_count": null,
      "outputs": []
    },
    {
      "cell_type": "code",
      "metadata": {
        "colab": {
          "base_uri": "https://localhost:8080/"
        },
        "id": "BKl-yDQIzxe-",
        "outputId": "98da64f2-3f5e-423b-a6b1-7610e1b6a521"
      },
      "source": [
        "from google.colab import files\n",
        "from google.colab import drive\n",
        "\n",
        "drive.mount('/content/drive')\n",
        "file = 'drive/MyDrive/digikala_dataset.txt'\n",
        "\n",
        "df = pd.read_csv(file, sep=\"\\t\", header=None, error_bad_lines=False)\n",
        "df.columns = [\"score\", \"comment\"]"
      ],
      "execution_count": null,
      "outputs": [
        {
          "output_type": "stream",
          "text": [
            "Mounted at /content/drive\n"
          ],
          "name": "stdout"
        },
        {
          "output_type": "stream",
          "text": [
            "b'Skipping line 82: expected 2 fields, saw 4\\nSkipping line 2429: expected 2 fields, saw 4\\nSkipping line 3944: expected 2 fields, saw 4\\nSkipping line 5847: expected 2 fields, saw 5\\nSkipping line 6639: expected 2 fields, saw 3\\nSkipping line 9319: expected 2 fields, saw 3\\nSkipping line 12082: expected 2 fields, saw 17\\nSkipping line 13159: expected 2 fields, saw 3\\nSkipping line 14444: expected 2 fields, saw 6\\nSkipping line 15109: expected 2 fields, saw 5\\nSkipping line 16391: expected 2 fields, saw 29\\nSkipping line 19098: expected 2 fields, saw 7\\nSkipping line 19714: expected 2 fields, saw 3\\nSkipping line 23227: expected 2 fields, saw 4\\nSkipping line 24211: expected 2 fields, saw 5\\nSkipping line 26373: expected 2 fields, saw 3\\nSkipping line 29248: expected 2 fields, saw 5\\nSkipping line 31275: expected 2 fields, saw 8\\nSkipping line 31376: expected 2 fields, saw 3\\nSkipping line 35116: expected 2 fields, saw 3\\nSkipping line 36097: expected 2 fields, saw 3\\nSkipping line 40447: expected 2 fields, saw 7\\nSkipping line 41285: expected 2 fields, saw 15\\nSkipping line 44095: expected 2 fields, saw 3\\nSkipping line 51631: expected 2 fields, saw 10\\nSkipping line 55007: expected 2 fields, saw 4\\nSkipping line 59460: expected 2 fields, saw 8\\nSkipping line 62495: expected 2 fields, saw 3\\nSkipping line 62792: expected 2 fields, saw 8\\nSkipping line 63425: expected 2 fields, saw 17\\nSkipping line 66099: expected 2 fields, saw 3\\nSkipping line 68102: expected 2 fields, saw 3\\nSkipping line 68128: expected 2 fields, saw 3\\nSkipping line 70718: expected 2 fields, saw 3\\nSkipping line 72164: expected 2 fields, saw 11\\nSkipping line 74963: expected 2 fields, saw 4\\nSkipping line 76976: expected 2 fields, saw 3\\nSkipping line 77451: expected 2 fields, saw 3\\nSkipping line 78433: expected 2 fields, saw 11\\nSkipping line 80328: expected 2 fields, saw 8\\nSkipping line 80721: expected 2 fields, saw 9\\nSkipping line 83537: expected 2 fields, saw 4\\nSkipping line 83621: expected 2 fields, saw 6\\nSkipping line 86192: expected 2 fields, saw 11\\nSkipping line 87946: expected 2 fields, saw 3\\nSkipping line 89438: expected 2 fields, saw 3\\nSkipping line 90649: expected 2 fields, saw 3\\nSkipping line 91675: expected 2 fields, saw 14\\nSkipping line 93385: expected 2 fields, saw 8\\nSkipping line 93529: expected 2 fields, saw 3\\nSkipping line 94536: expected 2 fields, saw 4\\nSkipping line 95143: expected 2 fields, saw 3\\nSkipping line 96908: expected 2 fields, saw 3\\nSkipping line 97798: expected 2 fields, saw 6\\nSkipping line 100778: expected 2 fields, saw 4\\nSkipping line 107434: expected 2 fields, saw 6\\nSkipping line 107519: expected 2 fields, saw 77\\nSkipping line 110910: expected 2 fields, saw 4\\nSkipping line 111842: expected 2 fields, saw 3\\nSkipping line 114108: expected 2 fields, saw 6\\nSkipping line 118389: expected 2 fields, saw 12\\nSkipping line 121837: expected 2 fields, saw 6\\nSkipping line 122698: expected 2 fields, saw 6\\nSkipping line 123993: expected 2 fields, saw 3\\nSkipping line 124295: expected 2 fields, saw 5\\nSkipping line 131399: expected 2 fields, saw 4\\nSkipping line 134801: expected 2 fields, saw 13\\nSkipping line 137363: expected 2 fields, saw 12\\nSkipping line 138830: expected 2 fields, saw 7\\nSkipping line 139296: expected 2 fields, saw 3\\nSkipping line 143933: expected 2 fields, saw 10\\nSkipping line 144902: expected 2 fields, saw 14\\nSkipping line 147018: expected 2 fields, saw 16\\nSkipping line 148589: expected 2 fields, saw 4\\nSkipping line 152116: expected 2 fields, saw 14\\nSkipping line 159450: expected 2 fields, saw 11\\nSkipping line 161745: expected 2 fields, saw 4\\nSkipping line 162593: expected 2 fields, saw 3\\nSkipping line 163131: expected 2 fields, saw 4\\nSkipping line 167746: expected 2 fields, saw 3\\nSkipping line 168576: expected 2 fields, saw 3\\nSkipping line 170925: expected 2 fields, saw 6\\nSkipping line 177477: expected 2 fields, saw 13\\nSkipping line 179312: expected 2 fields, saw 13\\nSkipping line 180606: expected 2 fields, saw 3\\nSkipping line 181428: expected 2 fields, saw 3\\nSkipping line 181654: expected 2 fields, saw 3\\nSkipping line 182169: expected 2 fields, saw 6\\nSkipping line 183047: expected 2 fields, saw 10\\nSkipping line 184673: expected 2 fields, saw 3\\nSkipping line 188739: expected 2 fields, saw 3\\nSkipping line 191919: expected 2 fields, saw 3\\nSkipping line 192353: expected 2 fields, saw 27\\nSkipping line 192478: expected 2 fields, saw 4\\nSkipping line 197472: expected 2 fields, saw 13\\nSkipping line 199647: expected 2 fields, saw 3\\n'\n"
          ],
          "name": "stderr"
        }
      ]
    },
    {
      "cell_type": "code",
      "metadata": {
        "colab": {
          "base_uri": "https://localhost:8080/",
          "height": 195
        },
        "id": "XYRIJJ57z1Rl",
        "outputId": "3c0fc356-c260-47be-a376-ed4293d2fdd4"
      },
      "source": [
        "df.head()"
      ],
      "execution_count": null,
      "outputs": [
        {
          "output_type": "execute_result",
          "data": {
            "text/html": [
              "<div>\n",
              "<style scoped>\n",
              "    .dataframe tbody tr th:only-of-type {\n",
              "        vertical-align: middle;\n",
              "    }\n",
              "\n",
              "    .dataframe tbody tr th {\n",
              "        vertical-align: top;\n",
              "    }\n",
              "\n",
              "    .dataframe thead th {\n",
              "        text-align: right;\n",
              "    }\n",
              "</style>\n",
              "<table border=\"1\" class=\"dataframe\">\n",
              "  <thead>\n",
              "    <tr style=\"text-align: right;\">\n",
              "      <th></th>\n",
              "      <th>score</th>\n",
              "      <th>comment</th>\n",
              "    </tr>\n",
              "  </thead>\n",
              "  <tbody>\n",
              "    <tr>\n",
              "      <th>0</th>\n",
              "      <td>0</td>\n",
              "      <td>لطفا رنگ سفید رو هم موجود کنید</td>\n",
              "    </tr>\n",
              "    <tr>\n",
              "      <th>1</th>\n",
              "      <td>0</td>\n",
              "      <td>با سلام؛ من همین الان میخواستم نوک مدادی بخرم ...</td>\n",
              "    </tr>\n",
              "    <tr>\n",
              "      <th>2</th>\n",
              "      <td>0</td>\n",
              "      <td>من یه روز گذاشتم شارژ 12 روز شارژ داشت</td>\n",
              "    </tr>\n",
              "    <tr>\n",
              "      <th>3</th>\n",
              "      <td>0</td>\n",
              "      <td>برای خاموش کردن نوار چراغ پایین گوشی از برنامه...</td>\n",
              "    </tr>\n",
              "    <tr>\n",
              "      <th>4</th>\n",
              "      <td>0</td>\n",
              "      <td>سلام بر دیجی کالا من میخواستم امروز بخرم ولی ا...</td>\n",
              "    </tr>\n",
              "  </tbody>\n",
              "</table>\n",
              "</div>"
            ],
            "text/plain": [
              "   score                                            comment\n",
              "0      0                     لطفا رنگ سفید رو هم موجود کنید\n",
              "1      0  با سلام؛ من همین الان میخواستم نوک مدادی بخرم ...\n",
              "2      0             من یه روز گذاشتم شارژ 12 روز شارژ داشت\n",
              "3      0  برای خاموش کردن نوار چراغ پایین گوشی از برنامه...\n",
              "4      0  سلام بر دیجی کالا من میخواستم امروز بخرم ولی ا..."
            ]
          },
          "metadata": {
            "tags": []
          },
          "execution_count": 3
        }
      ]
    },
    {
      "cell_type": "code",
      "metadata": {
        "colab": {
          "base_uri": "https://localhost:8080/",
          "height": 195
        },
        "id": "tQvplDxLh1i9",
        "outputId": "48ab2057-e2a8-428b-efa8-9fe391c581bb"
      },
      "source": [
        "df = df[df.score != 0]\n",
        "df.head()"
      ],
      "execution_count": null,
      "outputs": [
        {
          "output_type": "execute_result",
          "data": {
            "text/html": [
              "<div>\n",
              "<style scoped>\n",
              "    .dataframe tbody tr th:only-of-type {\n",
              "        vertical-align: middle;\n",
              "    }\n",
              "\n",
              "    .dataframe tbody tr th {\n",
              "        vertical-align: top;\n",
              "    }\n",
              "\n",
              "    .dataframe thead th {\n",
              "        text-align: right;\n",
              "    }\n",
              "</style>\n",
              "<table border=\"1\" class=\"dataframe\">\n",
              "  <thead>\n",
              "    <tr style=\"text-align: right;\">\n",
              "      <th></th>\n",
              "      <th>score</th>\n",
              "      <th>comment</th>\n",
              "    </tr>\n",
              "  </thead>\n",
              "  <tbody>\n",
              "    <tr>\n",
              "      <th>5</th>\n",
              "      <td>1</td>\n",
              "      <td>سلام من سه هفتس این گوشی رو خریدم واقعا عالیه ...</td>\n",
              "    </tr>\n",
              "    <tr>\n",
              "      <th>6</th>\n",
              "      <td>1</td>\n",
              "      <td>دیجی جون خدایی موجودش کن خیلی وقته منتظریم.. خ...</td>\n",
              "    </tr>\n",
              "    <tr>\n",
              "      <th>12</th>\n",
              "      <td>1</td>\n",
              "      <td>همه چیزش معرکه ست تو این رنج قیمت مخصوصا (فورجیش)</td>\n",
              "    </tr>\n",
              "    <tr>\n",
              "      <th>17</th>\n",
              "      <td>1</td>\n",
              "      <td>خیلی عالیه بنظر من اگه این رو بخری خیلی سود کر...</td>\n",
              "    </tr>\n",
              "    <tr>\n",
              "      <th>20</th>\n",
              "      <td>1</td>\n",
              "      <td>بابا تو رو خدا شگفت انگیزش کنین قبل عید این گو...</td>\n",
              "    </tr>\n",
              "  </tbody>\n",
              "</table>\n",
              "</div>"
            ],
            "text/plain": [
              "    score                                            comment\n",
              "5       1  سلام من سه هفتس این گوشی رو خریدم واقعا عالیه ...\n",
              "6       1  دیجی جون خدایی موجودش کن خیلی وقته منتظریم.. خ...\n",
              "12      1  همه چیزش معرکه ست تو این رنج قیمت مخصوصا (فورجیش)\n",
              "17      1  خیلی عالیه بنظر من اگه این رو بخری خیلی سود کر...\n",
              "20      1  بابا تو رو خدا شگفت انگیزش کنین قبل عید این گو..."
            ]
          },
          "metadata": {
            "tags": []
          },
          "execution_count": 4
        }
      ]
    },
    {
      "cell_type": "code",
      "metadata": {
        "colab": {
          "base_uri": "https://localhost:8080/",
          "height": 402
        },
        "id": "hXCFWxXWR0ky",
        "outputId": "95618bb6-7512-441d-8bb5-c0aefeb1b74f"
      },
      "source": [
        "df[df.score == 1]"
      ],
      "execution_count": null,
      "outputs": [
        {
          "output_type": "execute_result",
          "data": {
            "text/html": [
              "<div>\n",
              "<style scoped>\n",
              "    .dataframe tbody tr th:only-of-type {\n",
              "        vertical-align: middle;\n",
              "    }\n",
              "\n",
              "    .dataframe tbody tr th {\n",
              "        vertical-align: top;\n",
              "    }\n",
              "\n",
              "    .dataframe thead th {\n",
              "        text-align: right;\n",
              "    }\n",
              "</style>\n",
              "<table border=\"1\" class=\"dataframe\">\n",
              "  <thead>\n",
              "    <tr style=\"text-align: right;\">\n",
              "      <th></th>\n",
              "      <th>score</th>\n",
              "      <th>comment</th>\n",
              "    </tr>\n",
              "  </thead>\n",
              "  <tbody>\n",
              "    <tr>\n",
              "      <th>5</th>\n",
              "      <td>1</td>\n",
              "      <td>سلام من سه هفتس این گوشی رو خریدم واقعا عالیه ...</td>\n",
              "    </tr>\n",
              "    <tr>\n",
              "      <th>6</th>\n",
              "      <td>1</td>\n",
              "      <td>دیجی جون خدایی موجودش کن خیلی وقته منتظریم.. خ...</td>\n",
              "    </tr>\n",
              "    <tr>\n",
              "      <th>12</th>\n",
              "      <td>1</td>\n",
              "      <td>همه چیزش معرکه ست تو این رنج قیمت مخصوصا (فورجیش)</td>\n",
              "    </tr>\n",
              "    <tr>\n",
              "      <th>17</th>\n",
              "      <td>1</td>\n",
              "      <td>خیلی عالیه بنظر من اگه این رو بخری خیلی سود کر...</td>\n",
              "    </tr>\n",
              "    <tr>\n",
              "      <th>20</th>\n",
              "      <td>1</td>\n",
              "      <td>بابا تو رو خدا شگفت انگیزش کنین قبل عید این گو...</td>\n",
              "    </tr>\n",
              "    <tr>\n",
              "      <th>...</th>\n",
              "      <td>...</td>\n",
              "      <td>...</td>\n",
              "    </tr>\n",
              "    <tr>\n",
              "      <th>200633</th>\n",
              "      <td>1</td>\n",
              "      <td>لطفا بگید به اندروید بالا تر اپدیت می شه یانه ...</td>\n",
              "    </tr>\n",
              "    <tr>\n",
              "      <th>200651</th>\n",
              "      <td>1</td>\n",
              "      <td>در ضمن دوستان می توانند برای اطلاعات بیشتر و ق...</td>\n",
              "    </tr>\n",
              "    <tr>\n",
              "      <th>200655</th>\n",
              "      <td>1</td>\n",
              "      <td>فعلا تا وقتی z4 نیامده بهترین اندرویدیه فقط یه...</td>\n",
              "    </tr>\n",
              "    <tr>\n",
              "      <th>200659</th>\n",
              "      <td>1</td>\n",
              "      <td>به احترام شاهکارمایکروسافت سکوت...</td>\n",
              "    </tr>\n",
              "    <tr>\n",
              "      <th>200663</th>\n",
              "      <td>1</td>\n",
              "      <td>سلام.من این گوشیو 2هفته پیش خریدم البته ایم بگ...</td>\n",
              "    </tr>\n",
              "  </tbody>\n",
              "</table>\n",
              "<p>45823 rows × 2 columns</p>\n",
              "</div>"
            ],
            "text/plain": [
              "        score                                            comment\n",
              "5           1  سلام من سه هفتس این گوشی رو خریدم واقعا عالیه ...\n",
              "6           1  دیجی جون خدایی موجودش کن خیلی وقته منتظریم.. خ...\n",
              "12          1  همه چیزش معرکه ست تو این رنج قیمت مخصوصا (فورجیش)\n",
              "17          1  خیلی عالیه بنظر من اگه این رو بخری خیلی سود کر...\n",
              "20          1  بابا تو رو خدا شگفت انگیزش کنین قبل عید این گو...\n",
              "...       ...                                                ...\n",
              "200633      1  لطفا بگید به اندروید بالا تر اپدیت می شه یانه ...\n",
              "200651      1  در ضمن دوستان می توانند برای اطلاعات بیشتر و ق...\n",
              "200655      1  فعلا تا وقتی z4 نیامده بهترین اندرویدیه فقط یه...\n",
              "200659      1                 به احترام شاهکارمایکروسافت سکوت...\n",
              "200663      1  سلام.من این گوشیو 2هفته پیش خریدم البته ایم بگ...\n",
              "\n",
              "[45823 rows x 2 columns]"
            ]
          },
          "metadata": {
            "tags": []
          },
          "execution_count": 5
        }
      ]
    },
    {
      "cell_type": "code",
      "metadata": {
        "colab": {
          "base_uri": "https://localhost:8080/",
          "height": 402
        },
        "id": "yot_n3v8R1Sg",
        "outputId": "1eb8900e-4dd3-4ea7-b177-bb40634dc70d"
      },
      "source": [
        "df[df.score == -1]"
      ],
      "execution_count": null,
      "outputs": [
        {
          "output_type": "execute_result",
          "data": {
            "text/html": [
              "<div>\n",
              "<style scoped>\n",
              "    .dataframe tbody tr th:only-of-type {\n",
              "        vertical-align: middle;\n",
              "    }\n",
              "\n",
              "    .dataframe tbody tr th {\n",
              "        vertical-align: top;\n",
              "    }\n",
              "\n",
              "    .dataframe thead th {\n",
              "        text-align: right;\n",
              "    }\n",
              "</style>\n",
              "<table border=\"1\" class=\"dataframe\">\n",
              "  <thead>\n",
              "    <tr style=\"text-align: right;\">\n",
              "      <th></th>\n",
              "      <th>score</th>\n",
              "      <th>comment</th>\n",
              "    </tr>\n",
              "  </thead>\n",
              "  <tbody>\n",
              "    <tr>\n",
              "      <th>59</th>\n",
              "      <td>-1</td>\n",
              "      <td>من این گوشی رو 2 سال داشتم واقعا توی این دو سا...</td>\n",
              "    </tr>\n",
              "    <tr>\n",
              "      <th>61</th>\n",
              "      <td>-1</td>\n",
              "      <td>از دی جی کالا تشکر میکنم و متوجه دلیل تایید نش...</td>\n",
              "    </tr>\n",
              "    <tr>\n",
              "      <th>66</th>\n",
              "      <td>-1</td>\n",
              "      <td>با سلام خدمت دوستان. یه مورد جالب در مورد این ...</td>\n",
              "    </tr>\n",
              "    <tr>\n",
              "      <th>68</th>\n",
              "      <td>-1</td>\n",
              "      <td>نسبت به گوشی های هم رده خودش قیمت بالایی داره</td>\n",
              "    </tr>\n",
              "    <tr>\n",
              "      <th>128</th>\n",
              "      <td>-1</td>\n",
              "      <td>موبایله خوبیه . طول عمر باطریشم بالاست صفحه نم...</td>\n",
              "    </tr>\n",
              "    <tr>\n",
              "      <th>...</th>\n",
              "      <td>...</td>\n",
              "      <td>...</td>\n",
              "    </tr>\n",
              "    <tr>\n",
              "      <th>200453</th>\n",
              "      <td>-1</td>\n",
              "      <td>پيشنهاد ميکنم براي اين رنج قيمت xperia SL بخريد</td>\n",
              "    </tr>\n",
              "    <tr>\n",
              "      <th>200517</th>\n",
              "      <td>-1</td>\n",
              "      <td>ال جی این بار خراب کرده امیدوارم تو ورژن های ب...</td>\n",
              "    </tr>\n",
              "    <tr>\n",
              "      <th>200561</th>\n",
              "      <td>-1</td>\n",
              "      <td>به نظر من ارزش خريد نداره.فک نميکنم 0.1اينج بز...</td>\n",
              "    </tr>\n",
              "    <tr>\n",
              "      <th>200605</th>\n",
              "      <td>-1</td>\n",
              "      <td>فقط توي بعضي از بازي هاي HD که توي يک صحنه چند...</td>\n",
              "    </tr>\n",
              "    <tr>\n",
              "      <th>200661</th>\n",
              "      <td>-1</td>\n",
              "      <td>من 1 ساله دارمش واقعا بده. هنگ زیاد داغ شدن زی...</td>\n",
              "    </tr>\n",
              "  </tbody>\n",
              "</table>\n",
              "<p>4194 rows × 2 columns</p>\n",
              "</div>"
            ],
            "text/plain": [
              "        score                                            comment\n",
              "59         -1  من این گوشی رو 2 سال داشتم واقعا توی این دو سا...\n",
              "61         -1  از دی جی کالا تشکر میکنم و متوجه دلیل تایید نش...\n",
              "66         -1  با سلام خدمت دوستان. یه مورد جالب در مورد این ...\n",
              "68         -1      نسبت به گوشی های هم رده خودش قیمت بالایی داره\n",
              "128        -1  موبایله خوبیه . طول عمر باطریشم بالاست صفحه نم...\n",
              "...       ...                                                ...\n",
              "200453     -1    پيشنهاد ميکنم براي اين رنج قيمت xperia SL بخريد\n",
              "200517     -1  ال جی این بار خراب کرده امیدوارم تو ورژن های ب...\n",
              "200561     -1  به نظر من ارزش خريد نداره.فک نميکنم 0.1اينج بز...\n",
              "200605     -1  فقط توي بعضي از بازي هاي HD که توي يک صحنه چند...\n",
              "200661     -1  من 1 ساله دارمش واقعا بده. هنگ زیاد داغ شدن زی...\n",
              "\n",
              "[4194 rows x 2 columns]"
            ]
          },
          "metadata": {
            "tags": []
          },
          "execution_count": 6
        }
      ]
    },
    {
      "cell_type": "code",
      "metadata": {
        "id": "zmyoyTeBrC4e"
      },
      "source": [
        "# df.loc[df['score'] == -1, 'score'] = 0"
      ],
      "execution_count": null,
      "outputs": []
    },
    {
      "cell_type": "code",
      "metadata": {
        "colab": {
          "base_uri": "https://localhost:8080/"
        },
        "id": "-3WhbiWBrL_S",
        "outputId": "c1bc4f80-889c-48d6-94bf-046a7f80a6a1"
      },
      "source": [
        "print(len(df[df.score == -1]))"
      ],
      "execution_count": null,
      "outputs": [
        {
          "output_type": "stream",
          "text": [
            "4194\n"
          ],
          "name": "stdout"
        }
      ]
    },
    {
      "cell_type": "code",
      "metadata": {
        "colab": {
          "base_uri": "https://localhost:8080/"
        },
        "id": "15hZk9dLBEUC",
        "outputId": "c89785fa-bb63-43fb-f9fe-5efb6b9e80aa"
      },
      "source": [
        "print(len(df[df.score == 1]))"
      ],
      "execution_count": null,
      "outputs": [
        {
          "output_type": "stream",
          "text": [
            "45823\n"
          ],
          "name": "stdout"
        }
      ]
    },
    {
      "cell_type": "code",
      "metadata": {
        "id": "6u4NrsOT77NJ"
      },
      "source": [
        "def plot(history):\n",
        "    plt.plot(history.history['accuracy'])\n",
        "    plt.plot(history.history['val_accuracy'])\n",
        "    plt.title('model accuracy')\n",
        "    plt.ylabel('accuracy')\n",
        "    plt.xlabel('epoch')\n",
        "    plt.legend(['train', 'test'], loc='upper left')\n",
        "    plt.show()\n",
        "    # summarize history for loss\n",
        "    plt.plot(history.history['loss'])\n",
        "    plt.plot(history.history['val_loss'])\n",
        "    plt.title('model loss')\n",
        "    plt.ylabel('loss')\n",
        "    plt.xlabel('epoch')\n",
        "    plt.legend(['train', 'test'], loc='upper left')\n",
        "    plt.show()"
      ],
      "execution_count": null,
      "outputs": []
    },
    {
      "cell_type": "markdown",
      "metadata": {
        "id": "CKICj2_vIq6G"
      },
      "source": [
        "# Sentiment Analysis"
      ]
    },
    {
      "cell_type": "code",
      "metadata": {
        "id": "mk3SWj1_-MeE"
      },
      "source": [
        "x_train, x_test, y_train, y_test = train_test_split(df.comment, df.score, test_size=0.2)"
      ],
      "execution_count": null,
      "outputs": []
    },
    {
      "cell_type": "code",
      "metadata": {
        "colab": {
          "base_uri": "https://localhost:8080/"
        },
        "id": "kdriiINz001s",
        "outputId": "0a0ecc3e-2876-49bd-e20d-03c90adf3189"
      },
      "source": [
        "print(x_train.shape)\n",
        "print(x_test.shape)"
      ],
      "execution_count": null,
      "outputs": [
        {
          "output_type": "stream",
          "text": [
            "(40013,)\n",
            "(10004,)\n"
          ],
          "name": "stdout"
        }
      ]
    },
    {
      "cell_type": "code",
      "metadata": {
        "id": "ITPXaLpI-G7y"
      },
      "source": [
        "epochs = 4\n",
        "batch_size = 128\n",
        "\n",
        "n_dim = 100\n",
        "n_unique_words = 2000\n",
        "max_text_length = 2000"
      ],
      "execution_count": null,
      "outputs": []
    },
    {
      "cell_type": "code",
      "metadata": {
        "id": "36lf4yl64lQ2"
      },
      "source": [
        "token = Tokenizer(num_words=n_unique_words, lower=False)\n",
        "token.fit_on_texts(x_train)\n",
        "\n",
        "\n",
        "train_sequences = token.texts_to_sequences(x_train)\n",
        "train_sequences_matrix = pad_sequences(train_sequences, maxlen=max_text_length)\n",
        "\n",
        "\n",
        "test_sequences = token.texts_to_sequences(x_test)\n",
        "test_sequences_matrix = pad_sequences(test_sequences, maxlen=max_text_length)"
      ],
      "execution_count": null,
      "outputs": []
    },
    {
      "cell_type": "code",
      "metadata": {
        "colab": {
          "base_uri": "https://localhost:8080/"
        },
        "id": "m6JdguwA1Tcz",
        "outputId": "0865845e-16fd-497c-c8d5-6e0170c3fbe0"
      },
      "source": [
        "print(len(train_sequences_matrix[0]))"
      ],
      "execution_count": null,
      "outputs": [
        {
          "output_type": "stream",
          "text": [
            "2000\n"
          ],
          "name": "stdout"
        }
      ]
    },
    {
      "cell_type": "markdown",
      "metadata": {
        "id": "K7ug1iHstpXh"
      },
      "source": [
        "#model 1"
      ]
    },
    {
      "cell_type": "code",
      "metadata": {
        "id": "3fCIb_BLVFQr",
        "colab": {
          "base_uri": "https://localhost:8080/"
        },
        "outputId": "daa056e7-e190-4ef4-ccd7-0d96fddbfd8f"
      },
      "source": [
        "#model\n",
        "\n",
        "model = Sequential()\n",
        "model.add(Embedding(n_unique_words, n_dim, input_length=n_unique_words))\n",
        "model.add(Conv1D(256, 5 , activation='relu'))\n",
        "model.add(SpatialDropout1D(0.2))\n",
        "model.add(Dense(128, activation='relu'))\n",
        "model.add(Dropout(0.25))\n",
        "model.add(Dense(1, activation='softmax'))\n",
        "\n",
        "model.summary()"
      ],
      "execution_count": null,
      "outputs": [
        {
          "output_type": "stream",
          "text": [
            "Model: \"sequential_5\"\n",
            "_________________________________________________________________\n",
            "Layer (type)                 Output Shape              Param #   \n",
            "=================================================================\n",
            "embedding_5 (Embedding)      (None, 2000, 100)         200000    \n",
            "_________________________________________________________________\n",
            "conv1d_5 (Conv1D)            (None, 1996, 256)         128256    \n",
            "_________________________________________________________________\n",
            "spatial_dropout1d (SpatialDr (None, 1996, 256)         0         \n",
            "_________________________________________________________________\n",
            "dense_8 (Dense)              (None, 1996, 128)         32896     \n",
            "_________________________________________________________________\n",
            "dropout_6 (Dropout)          (None, 1996, 128)         0         \n",
            "_________________________________________________________________\n",
            "dense_9 (Dense)              (None, 1996, 1)           129       \n",
            "=================================================================\n",
            "Total params: 361,281\n",
            "Trainable params: 361,281\n",
            "Non-trainable params: 0\n",
            "_________________________________________________________________\n"
          ],
          "name": "stdout"
        }
      ]
    },
    {
      "cell_type": "code",
      "metadata": {
        "colab": {
          "base_uri": "https://localhost:8080/"
        },
        "id": "e3enz4Qh1YVU",
        "outputId": "2ae7f913-832b-4d11-faa2-2264941fdde9"
      },
      "source": [
        "model.compile(loss='binary_crossentropy',optimizer='adam',metrics=['accuracy'])\n",
        "history = model.fit(train_sequences_matrix, y_train, \n",
        "          batch_size=batch_size, \n",
        "          epochs=epochs, \n",
        "          verbose=1, \n",
        "          validation_data=(test_sequences_matrix, y_test))"
      ],
      "execution_count": null,
      "outputs": [
        {
          "output_type": "stream",
          "text": [
            "Epoch 1/4\n",
            "313/313 [==============================] - 50s 156ms/step - loss: 2.4383 - accuracy: 0.9201 - val_loss: 2.7560 - val_accuracy: 0.9096\n",
            "Epoch 2/4\n",
            "313/313 [==============================] - 48s 155ms/step - loss: 2.5404 - accuracy: 0.9167 - val_loss: 2.7560 - val_accuracy: 0.9096\n",
            "Epoch 3/4\n",
            "313/313 [==============================] - 49s 155ms/step - loss: 2.4456 - accuracy: 0.9198 - val_loss: 2.7560 - val_accuracy: 0.9096\n",
            "Epoch 4/4\n",
            "313/313 [==============================] - 49s 155ms/step - loss: 2.6272 - accuracy: 0.9139 - val_loss: 2.7560 - val_accuracy: 0.9096\n"
          ],
          "name": "stdout"
        }
      ]
    },
    {
      "cell_type": "code",
      "metadata": {
        "colab": {
          "base_uri": "https://localhost:8080/",
          "height": 573
        },
        "id": "KFPw8a9M7-qA",
        "outputId": "b903f9be-5965-40bb-af09-679235cbfef5"
      },
      "source": [
        "plot(history)"
      ],
      "execution_count": null,
      "outputs": [
        {
          "output_type": "display_data",
          "data": {
            "image/png": "[encoded data removed]",
            "text/plain": [
              "<Figure size 432x288 with 1 Axes>"
            ]
          },
          "metadata": {
            "tags": [],
            "needs_background": "light"
          }
        },
        {
          "output_type": "display_data",
          "data": {
            "image/png": "[encoded data removed]",
            "text/plain": [
              "<Figure size 432x288 with 1 Axes>"
            ]
          },
          "metadata": {
            "tags": [],
            "needs_background": "light"
          }
        }
      ]
    },
    {
      "cell_type": "code",
      "metadata": {
        "colab": {
          "base_uri": "https://localhost:8080/"
        },
        "id": "pumGiFBrn7Sq",
        "outputId": "8fe97a9b-0e6b-4bb8-9c4b-976fe2538a0a"
      },
      "source": [
        "model.evaluate(test_sequences_matrix, y_test)"
      ],
      "execution_count": null,
      "outputs": [
        {
          "output_type": "stream",
          "text": [
            "313/313 [==============================] - 5s 15ms/step - loss: -3645.8188 - accuracy: 0.9096\n"
          ],
          "name": "stdout"
        },
        {
          "output_type": "execute_result",
          "data": {
            "text/plain": [
              "[-3645.81884765625, 0.9096361398696899]"
            ]
          },
          "metadata": {
            "tags": []
          },
          "execution_count": 26
        }
      ]
    },
    {
      "cell_type": "code",
      "metadata": {
        "colab": {
          "base_uri": "https://localhost:8080/",
          "height": 318
        },
        "id": "3kc9KTcSLjeF",
        "outputId": "56fb6e55-c744-4da6-9348-6e61281bac44"
      },
      "source": [
        "y_predict = model.predict_proba(test_sequences_matrix)\n",
        "\n",
        "plt.hist(y_predict)\n",
        "_ = plt.axvline(x=.5, color='orange')"
      ],
      "execution_count": null,
      "outputs": [
        {
          "output_type": "stream",
          "text": [
            "/usr/local/lib/python3.6/dist-packages/tensorflow/python/keras/engine/sequential.py:425: UserWarning: `model.predict_proba()` is deprecated and will be removed after 2021-01-01. Please use `model.predict()` instead.\n",
            "  warnings.warn('`model.predict_proba()` is deprecated and '\n"
          ],
          "name": "stderr"
        },
        {
          "output_type": "display_data",
          "data": {
            "image/png": "[encoded data removed]",
            "text/plain": [
              "<Figure size 432x288 with 1 Axes>"
            ]
          },
          "metadata": {
            "tags": [],
            "needs_background": "light"
          }
        }
      ]
    },
    {
      "cell_type": "markdown",
      "metadata": {
        "id": "lpM-1YeQCJIj"
      },
      "source": [
        "#model 2"
      ]
    },
    {
      "cell_type": "code",
      "metadata": {
        "id": "4vFYfXf_3kDF"
      },
      "source": [
        "model = Sequential()\n",
        "model.add(Embedding(n_unique_words, n_dim, input_length=n_unique_words))\n",
        "model.add(Conv1D(filters=32, kernel_size=5, activation='relu'))\n",
        "model.add(Dropout(0.5))\n",
        "model.add(MaxPooling1D(pool_size=2))\n",
        "model.add(Flatten())\n",
        "model.add(Dense(128, activation='relu'))\n",
        "model.add(Dropout(0.5))\n",
        "model.add(Dense(64, activation='relu'))\n",
        "model.add(Dense(1, activation='tanh'))"
      ],
      "execution_count": null,
      "outputs": []
    },
    {
      "cell_type": "code",
      "metadata": {
        "colab": {
          "base_uri": "https://localhost:8080/"
        },
        "id": "6EnyqBtr3w7C",
        "outputId": "7e94cad6-3d55-4c24-d5fa-220923154172"
      },
      "source": [
        "model.compile(loss='binary_crossentropy',optimizer='adam',metrics=['accuracy'])\n",
        "history = model.fit(train_sequences_matrix, y_train, \n",
        "          batch_size=batch_size, \n",
        "          epochs=epochs, \n",
        "          verbose=1, \n",
        "          validation_data=(test_sequences_matrix, y_test))"
      ],
      "execution_count": null,
      "outputs": [
        {
          "output_type": "stream",
          "text": [
            "Epoch 1/5\n",
            "626/626 [==============================] - 23s 36ms/step - loss: 0.5757 - accuracy: 0.8757 - val_loss: 0.2954 - val_accuracy: 0.8674\n",
            "Epoch 2/5\n",
            "626/626 [==============================] - 22s 35ms/step - loss: 0.1862 - accuracy: 0.8347 - val_loss: 0.1753 - val_accuracy: 0.8259\n",
            "Epoch 3/5\n",
            "626/626 [==============================] - 22s 35ms/step - loss: 0.0413 - accuracy: 0.8551 - val_loss: 0.1151 - val_accuracy: 0.8301\n",
            "Epoch 4/5\n",
            "626/626 [==============================] - 22s 35ms/step - loss: 0.0671 - accuracy: 0.8587 - val_loss: 0.1269 - val_accuracy: 0.8632\n",
            "Epoch 5/5\n",
            "626/626 [==============================] - 22s 35ms/step - loss: -0.0374 - accuracy: 0.8619 - val_loss: 0.1441 - val_accuracy: 0.8220\n"
          ],
          "name": "stdout"
        }
      ]
    },
    {
      "cell_type": "code",
      "metadata": {
        "colab": {
          "base_uri": "https://localhost:8080/",
          "height": 573
        },
        "id": "rMRv09NT4cYW",
        "outputId": "2b432958-a961-4f90-ef6a-68b59ca6a002"
      },
      "source": [
        "plot(history)"
      ],
      "execution_count": null,
      "outputs": [
        {
          "output_type": "display_data",
          "data": {
            "image/png": "[encoded data removed]",
            "text/plain": [
              "<Figure size 432x288 with 1 Axes>"
            ]
          },
          "metadata": {
            "tags": [],
            "needs_background": "light"
          }
        },
        {
          "output_type": "display_data",
          "data": {
            "image/png": "[encoded data removed]",
            "text/plain": [
              "<Figure size 432x288 with 1 Axes>"
            ]
          },
          "metadata": {
            "tags": [],
            "needs_background": "light"
          }
        }
      ]
    },
    {
      "cell_type": "code",
      "metadata": {
        "colab": {
          "base_uri": "https://localhost:8080/"
        },
        "id": "sw1QUyBRAL2a",
        "outputId": "d011f666-b063-4cb9-e01e-3df1bbb765f4"
      },
      "source": [
        "model.evaluate(test_sequences_matrix, y_test)"
      ],
      "execution_count": null,
      "outputs": [
        {
          "output_type": "stream",
          "text": [
            "313/313 [==============================] - 2s 8ms/step - loss: 0.1441 - accuracy: 0.8220\n"
          ],
          "name": "stdout"
        },
        {
          "output_type": "execute_result",
          "data": {
            "text/plain": [
              "[0.1441354751586914, 0.8219712376594543]"
            ]
          },
          "metadata": {
            "tags": []
          },
          "execution_count": 121
        }
      ]
    }
  ]
}