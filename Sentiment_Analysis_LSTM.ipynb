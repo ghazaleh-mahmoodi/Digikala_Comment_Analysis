{
  "nbformat": 4,
  "nbformat_minor": 0,
  "metadata": {
    "colab": {
      "name": "Sentiment Analysis LSTM.ipynb",
      "provenance": [],
      "collapsed_sections": [
        "CKICj2_vIq6G",
        "K7ug1iHstpXh",
        "tZnbVvBiodjX",
        "YYWQAZAdtoZp",
        "Sc7VJ21GYauN",
        "eK8nb5L0hgsl",
        "QHpltBSPhrFz",
        "2AAnYt7amy2T"
      ],
      "toc_visible": true
    },
    "kernelspec": {
      "name": "python3",
      "display_name": "Python 3"
    },
    "accelerator": "GPU"
  },
  "cells": [
    {
      "cell_type": "code",
      "metadata": {
        "id": "dWsYLUipyI3r"
      },
      "source": [
        "import numpy as np\n",
        "import pandas as pd\n",
        "import matplotlib.pyplot as plt\n",
        "\n",
        "from sklearn.model_selection import train_test_split\n",
        "\n",
        "# Word vectorization and splitting dataset\n",
        "from sklearn.model_selection import train_test_split\n",
        "from keras.preprocessing.text import Tokenizer\n",
        "from keras.preprocessing.sequence import pad_sequences\n",
        "\n",
        "# Building sequential model\n",
        "from keras.models import Sequential\n",
        "from keras.layers.wrappers import Bidirectional\n",
        "from keras.layers import Dense, Embedding, LSTM, Dropout\n",
        "\n",
        "# Convolutional Layers\n",
        "from keras.layers import Conv1D, GlobalMaxPool1D, SpatialDropout1D, MaxPooling1D\n",
        "\n",
        "# Cofigurations\n",
        "from keras.callbacks import ModelCheckpoint\n",
        "\n",
        "# Avoiding warnings\n",
        "import warnings\n",
        "import os"
      ],
      "execution_count": null,
      "outputs": []
    },
    {
      "cell_type": "code",
      "metadata": {
        "colab": {
          "base_uri": "https://localhost:8080/"
        },
        "id": "BKl-yDQIzxe-",
        "outputId": "1760c2ce-fde2-4602-ede8-99ac5965118d"
      },
      "source": [
        "from google.colab import files\n",
        "from google.colab import drive\n",
        "\n",
        "drive.mount('/content/drive')\n",
        "file = 'drive/MyDrive/digikala_dataset.txt'\n",
        "\n",
        "df = pd.read_csv(file, sep=\"\\t\", header=None, error_bad_lines=False)\n",
        "df.columns = [\"score\", \"comment\"]"
      ],
      "execution_count": null,
      "outputs": [
        {
          "output_type": "stream",
          "text": [
            "Mounted at /content/drive\n"
          ],
          "name": "stdout"
        },
        {
          "output_type": "stream",
          "text": [
            "b'Skipping line 82: expected 2 fields, saw 4\\nSkipping line 2429: expected 2 fields, saw 4\\nSkipping line 3944: expected 2 fields, saw 4\\nSkipping line 5847: expected 2 fields, saw 5\\nSkipping line 6639: expected 2 fields, saw 3\\nSkipping line 9319: expected 2 fields, saw 3\\nSkipping line 12082: expected 2 fields, saw 17\\nSkipping line 13159: expected 2 fields, saw 3\\nSkipping line 14444: expected 2 fields, saw 6\\nSkipping line 15109: expected 2 fields, saw 5\\nSkipping line 16391: expected 2 fields, saw 29\\nSkipping line 19098: expected 2 fields, saw 7\\nSkipping line 19714: expected 2 fields, saw 3\\nSkipping line 23227: expected 2 fields, saw 4\\nSkipping line 24211: expected 2 fields, saw 5\\nSkipping line 26373: expected 2 fields, saw 3\\nSkipping line 29248: expected 2 fields, saw 5\\nSkipping line 31275: expected 2 fields, saw 8\\nSkipping line 31376: expected 2 fields, saw 3\\nSkipping line 35116: expected 2 fields, saw 3\\nSkipping line 36097: expected 2 fields, saw 3\\nSkipping line 40447: expected 2 fields, saw 7\\nSkipping line 41285: expected 2 fields, saw 15\\nSkipping line 44095: expected 2 fields, saw 3\\nSkipping line 51631: expected 2 fields, saw 10\\nSkipping line 55007: expected 2 fields, saw 4\\nSkipping line 59460: expected 2 fields, saw 8\\nSkipping line 62495: expected 2 fields, saw 3\\nSkipping line 62792: expected 2 fields, saw 8\\nSkipping line 63425: expected 2 fields, saw 17\\nSkipping line 66099: expected 2 fields, saw 3\\nSkipping line 68102: expected 2 fields, saw 3\\nSkipping line 68128: expected 2 fields, saw 3\\nSkipping line 70718: expected 2 fields, saw 3\\nSkipping line 72164: expected 2 fields, saw 11\\nSkipping line 74963: expected 2 fields, saw 4\\nSkipping line 76976: expected 2 fields, saw 3\\nSkipping line 77451: expected 2 fields, saw 3\\nSkipping line 78433: expected 2 fields, saw 11\\nSkipping line 80328: expected 2 fields, saw 8\\nSkipping line 80721: expected 2 fields, saw 9\\nSkipping line 83537: expected 2 fields, saw 4\\nSkipping line 83621: expected 2 fields, saw 6\\nSkipping line 86192: expected 2 fields, saw 11\\nSkipping line 87946: expected 2 fields, saw 3\\nSkipping line 89438: expected 2 fields, saw 3\\nSkipping line 90649: expected 2 fields, saw 3\\nSkipping line 91675: expected 2 fields, saw 14\\nSkipping line 93385: expected 2 fields, saw 8\\nSkipping line 93529: expected 2 fields, saw 3\\nSkipping line 94536: expected 2 fields, saw 4\\nSkipping line 95143: expected 2 fields, saw 3\\nSkipping line 96908: expected 2 fields, saw 3\\nSkipping line 97798: expected 2 fields, saw 6\\nSkipping line 100778: expected 2 fields, saw 4\\nSkipping line 107434: expected 2 fields, saw 6\\nSkipping line 107519: expected 2 fields, saw 77\\nSkipping line 110910: expected 2 fields, saw 4\\nSkipping line 111842: expected 2 fields, saw 3\\nSkipping line 114108: expected 2 fields, saw 6\\nSkipping line 118389: expected 2 fields, saw 12\\nSkipping line 121837: expected 2 fields, saw 6\\nSkipping line 122698: expected 2 fields, saw 6\\nSkipping line 123993: expected 2 fields, saw 3\\nSkipping line 124295: expected 2 fields, saw 5\\nSkipping line 131399: expected 2 fields, saw 4\\nSkipping line 134801: expected 2 fields, saw 13\\nSkipping line 137363: expected 2 fields, saw 12\\nSkipping line 138830: expected 2 fields, saw 7\\nSkipping line 139296: expected 2 fields, saw 3\\nSkipping line 143933: expected 2 fields, saw 10\\nSkipping line 144902: expected 2 fields, saw 14\\nSkipping line 147018: expected 2 fields, saw 16\\nSkipping line 148589: expected 2 fields, saw 4\\nSkipping line 152116: expected 2 fields, saw 14\\nSkipping line 159450: expected 2 fields, saw 11\\nSkipping line 161745: expected 2 fields, saw 4\\nSkipping line 162593: expected 2 fields, saw 3\\nSkipping line 163131: expected 2 fields, saw 4\\nSkipping line 167746: expected 2 fields, saw 3\\nSkipping line 168576: expected 2 fields, saw 3\\nSkipping line 170925: expected 2 fields, saw 6\\nSkipping line 177477: expected 2 fields, saw 13\\nSkipping line 179312: expected 2 fields, saw 13\\nSkipping line 180606: expected 2 fields, saw 3\\nSkipping line 181428: expected 2 fields, saw 3\\nSkipping line 181654: expected 2 fields, saw 3\\nSkipping line 182169: expected 2 fields, saw 6\\nSkipping line 183047: expected 2 fields, saw 10\\nSkipping line 184673: expected 2 fields, saw 3\\nSkipping line 188739: expected 2 fields, saw 3\\nSkipping line 191919: expected 2 fields, saw 3\\nSkipping line 192353: expected 2 fields, saw 27\\nSkipping line 192478: expected 2 fields, saw 4\\nSkipping line 197472: expected 2 fields, saw 13\\nSkipping line 199647: expected 2 fields, saw 3\\n'\n"
          ],
          "name": "stderr"
        }
      ]
    },
    {
      "cell_type": "code",
      "metadata": {
        "colab": {
          "base_uri": "https://localhost:8080/",
          "height": 195
        },
        "id": "XYRIJJ57z1Rl",
        "outputId": "6f9358a8-54cf-4a76-83d0-0d5b73deea9e"
      },
      "source": [
        "df.head()"
      ],
      "execution_count": null,
      "outputs": [
        {
          "output_type": "execute_result",
          "data": {
            "text/html": [
              "<div>\n",
              "<style scoped>\n",
              "    .dataframe tbody tr th:only-of-type {\n",
              "        vertical-align: middle;\n",
              "    }\n",
              "\n",
              "    .dataframe tbody tr th {\n",
              "        vertical-align: top;\n",
              "    }\n",
              "\n",
              "    .dataframe thead th {\n",
              "        text-align: right;\n",
              "    }\n",
              "</style>\n",
              "<table border=\"1\" class=\"dataframe\">\n",
              "  <thead>\n",
              "    <tr style=\"text-align: right;\">\n",
              "      <th></th>\n",
              "      <th>score</th>\n",
              "      <th>comment</th>\n",
              "    </tr>\n",
              "  </thead>\n",
              "  <tbody>\n",
              "    <tr>\n",
              "      <th>0</th>\n",
              "      <td>0</td>\n",
              "      <td>لطفا رنگ سفید رو هم موجود کنید</td>\n",
              "    </tr>\n",
              "    <tr>\n",
              "      <th>1</th>\n",
              "      <td>0</td>\n",
              "      <td>با سلام؛ من همین الان میخواستم نوک مدادی بخرم ...</td>\n",
              "    </tr>\n",
              "    <tr>\n",
              "      <th>2</th>\n",
              "      <td>0</td>\n",
              "      <td>من یه روز گذاشتم شارژ 12 روز شارژ داشت</td>\n",
              "    </tr>\n",
              "    <tr>\n",
              "      <th>3</th>\n",
              "      <td>0</td>\n",
              "      <td>برای خاموش کردن نوار چراغ پایین گوشی از برنامه...</td>\n",
              "    </tr>\n",
              "    <tr>\n",
              "      <th>4</th>\n",
              "      <td>0</td>\n",
              "      <td>سلام بر دیجی کالا من میخواستم امروز بخرم ولی ا...</td>\n",
              "    </tr>\n",
              "  </tbody>\n",
              "</table>\n",
              "</div>"
            ],
            "text/plain": [
              "   score                                            comment\n",
              "0      0                     لطفا رنگ سفید رو هم موجود کنید\n",
              "1      0  با سلام؛ من همین الان میخواستم نوک مدادی بخرم ...\n",
              "2      0             من یه روز گذاشتم شارژ 12 روز شارژ داشت\n",
              "3      0  برای خاموش کردن نوار چراغ پایین گوشی از برنامه...\n",
              "4      0  سلام بر دیجی کالا من میخواستم امروز بخرم ولی ا..."
            ]
          },
          "metadata": {
            "tags": []
          },
          "execution_count": 3
        }
      ]
    },
    {
      "cell_type": "code",
      "metadata": {
        "colab": {
          "base_uri": "https://localhost:8080/",
          "height": 195
        },
        "id": "tQvplDxLh1i9",
        "outputId": "c08e0062-c9ed-43a0-9645-6c83449ea8c4"
      },
      "source": [
        "df = df[df.score != 0]\n",
        "df.head()"
      ],
      "execution_count": null,
      "outputs": [
        {
          "output_type": "execute_result",
          "data": {
            "text/html": [
              "<div>\n",
              "<style scoped>\n",
              "    .dataframe tbody tr th:only-of-type {\n",
              "        vertical-align: middle;\n",
              "    }\n",
              "\n",
              "    .dataframe tbody tr th {\n",
              "        vertical-align: top;\n",
              "    }\n",
              "\n",
              "    .dataframe thead th {\n",
              "        text-align: right;\n",
              "    }\n",
              "</style>\n",
              "<table border=\"1\" class=\"dataframe\">\n",
              "  <thead>\n",
              "    <tr style=\"text-align: right;\">\n",
              "      <th></th>\n",
              "      <th>score</th>\n",
              "      <th>comment</th>\n",
              "    </tr>\n",
              "  </thead>\n",
              "  <tbody>\n",
              "    <tr>\n",
              "      <th>5</th>\n",
              "      <td>1</td>\n",
              "      <td>سلام من سه هفتس این گوشی رو خریدم واقعا عالیه ...</td>\n",
              "    </tr>\n",
              "    <tr>\n",
              "      <th>6</th>\n",
              "      <td>1</td>\n",
              "      <td>دیجی جون خدایی موجودش کن خیلی وقته منتظریم.. خ...</td>\n",
              "    </tr>\n",
              "    <tr>\n",
              "      <th>12</th>\n",
              "      <td>1</td>\n",
              "      <td>همه چیزش معرکه ست تو این رنج قیمت مخصوصا (فورجیش)</td>\n",
              "    </tr>\n",
              "    <tr>\n",
              "      <th>17</th>\n",
              "      <td>1</td>\n",
              "      <td>خیلی عالیه بنظر من اگه این رو بخری خیلی سود کر...</td>\n",
              "    </tr>\n",
              "    <tr>\n",
              "      <th>20</th>\n",
              "      <td>1</td>\n",
              "      <td>بابا تو رو خدا شگفت انگیزش کنین قبل عید این گو...</td>\n",
              "    </tr>\n",
              "  </tbody>\n",
              "</table>\n",
              "</div>"
            ],
            "text/plain": [
              "    score                                            comment\n",
              "5       1  سلام من سه هفتس این گوشی رو خریدم واقعا عالیه ...\n",
              "6       1  دیجی جون خدایی موجودش کن خیلی وقته منتظریم.. خ...\n",
              "12      1  همه چیزش معرکه ست تو این رنج قیمت مخصوصا (فورجیش)\n",
              "17      1  خیلی عالیه بنظر من اگه این رو بخری خیلی سود کر...\n",
              "20      1  بابا تو رو خدا شگفت انگیزش کنین قبل عید این گو..."
            ]
          },
          "metadata": {
            "tags": []
          },
          "execution_count": 4
        }
      ]
    },
    {
      "cell_type": "code",
      "metadata": {
        "colab": {
          "base_uri": "https://localhost:8080/",
          "height": 402
        },
        "id": "hXCFWxXWR0ky",
        "outputId": "3def14a7-f557-4bcc-d413-ea36deb2e6d3"
      },
      "source": [
        "df[df.score == 1]"
      ],
      "execution_count": null,
      "outputs": [
        {
          "output_type": "execute_result",
          "data": {
            "text/html": [
              "<div>\n",
              "<style scoped>\n",
              "    .dataframe tbody tr th:only-of-type {\n",
              "        vertical-align: middle;\n",
              "    }\n",
              "\n",
              "    .dataframe tbody tr th {\n",
              "        vertical-align: top;\n",
              "    }\n",
              "\n",
              "    .dataframe thead th {\n",
              "        text-align: right;\n",
              "    }\n",
              "</style>\n",
              "<table border=\"1\" class=\"dataframe\">\n",
              "  <thead>\n",
              "    <tr style=\"text-align: right;\">\n",
              "      <th></th>\n",
              "      <th>score</th>\n",
              "      <th>comment</th>\n",
              "    </tr>\n",
              "  </thead>\n",
              "  <tbody>\n",
              "    <tr>\n",
              "      <th>5</th>\n",
              "      <td>1</td>\n",
              "      <td>سلام من سه هفتس این گوشی رو خریدم واقعا عالیه ...</td>\n",
              "    </tr>\n",
              "    <tr>\n",
              "      <th>6</th>\n",
              "      <td>1</td>\n",
              "      <td>دیجی جون خدایی موجودش کن خیلی وقته منتظریم.. خ...</td>\n",
              "    </tr>\n",
              "    <tr>\n",
              "      <th>12</th>\n",
              "      <td>1</td>\n",
              "      <td>همه چیزش معرکه ست تو این رنج قیمت مخصوصا (فورجیش)</td>\n",
              "    </tr>\n",
              "    <tr>\n",
              "      <th>17</th>\n",
              "      <td>1</td>\n",
              "      <td>خیلی عالیه بنظر من اگه این رو بخری خیلی سود کر...</td>\n",
              "    </tr>\n",
              "    <tr>\n",
              "      <th>20</th>\n",
              "      <td>1</td>\n",
              "      <td>بابا تو رو خدا شگفت انگیزش کنین قبل عید این گو...</td>\n",
              "    </tr>\n",
              "    <tr>\n",
              "      <th>...</th>\n",
              "      <td>...</td>\n",
              "      <td>...</td>\n",
              "    </tr>\n",
              "    <tr>\n",
              "      <th>200633</th>\n",
              "      <td>1</td>\n",
              "      <td>لطفا بگید به اندروید بالا تر اپدیت می شه یانه ...</td>\n",
              "    </tr>\n",
              "    <tr>\n",
              "      <th>200651</th>\n",
              "      <td>1</td>\n",
              "      <td>در ضمن دوستان می توانند برای اطلاعات بیشتر و ق...</td>\n",
              "    </tr>\n",
              "    <tr>\n",
              "      <th>200655</th>\n",
              "      <td>1</td>\n",
              "      <td>فعلا تا وقتی z4 نیامده بهترین اندرویدیه فقط یه...</td>\n",
              "    </tr>\n",
              "    <tr>\n",
              "      <th>200659</th>\n",
              "      <td>1</td>\n",
              "      <td>به احترام شاهکارمایکروسافت سکوت...</td>\n",
              "    </tr>\n",
              "    <tr>\n",
              "      <th>200663</th>\n",
              "      <td>1</td>\n",
              "      <td>سلام.من این گوشیو 2هفته پیش خریدم البته ایم بگ...</td>\n",
              "    </tr>\n",
              "  </tbody>\n",
              "</table>\n",
              "<p>45823 rows × 2 columns</p>\n",
              "</div>"
            ],
            "text/plain": [
              "        score                                            comment\n",
              "5           1  سلام من سه هفتس این گوشی رو خریدم واقعا عالیه ...\n",
              "6           1  دیجی جون خدایی موجودش کن خیلی وقته منتظریم.. خ...\n",
              "12          1  همه چیزش معرکه ست تو این رنج قیمت مخصوصا (فورجیش)\n",
              "17          1  خیلی عالیه بنظر من اگه این رو بخری خیلی سود کر...\n",
              "20          1  بابا تو رو خدا شگفت انگیزش کنین قبل عید این گو...\n",
              "...       ...                                                ...\n",
              "200633      1  لطفا بگید به اندروید بالا تر اپدیت می شه یانه ...\n",
              "200651      1  در ضمن دوستان می توانند برای اطلاعات بیشتر و ق...\n",
              "200655      1  فعلا تا وقتی z4 نیامده بهترین اندرویدیه فقط یه...\n",
              "200659      1                 به احترام شاهکارمایکروسافت سکوت...\n",
              "200663      1  سلام.من این گوشیو 2هفته پیش خریدم البته ایم بگ...\n",
              "\n",
              "[45823 rows x 2 columns]"
            ]
          },
          "metadata": {
            "tags": []
          },
          "execution_count": 5
        }
      ]
    },
    {
      "cell_type": "code",
      "metadata": {
        "colab": {
          "base_uri": "https://localhost:8080/",
          "height": 402
        },
        "id": "yot_n3v8R1Sg",
        "outputId": "93785337-ce36-4290-9f44-0ec17f42257b"
      },
      "source": [
        "df[df.score == -1]"
      ],
      "execution_count": null,
      "outputs": [
        {
          "output_type": "execute_result",
          "data": {
            "text/html": [
              "<div>\n",
              "<style scoped>\n",
              "    .dataframe tbody tr th:only-of-type {\n",
              "        vertical-align: middle;\n",
              "    }\n",
              "\n",
              "    .dataframe tbody tr th {\n",
              "        vertical-align: top;\n",
              "    }\n",
              "\n",
              "    .dataframe thead th {\n",
              "        text-align: right;\n",
              "    }\n",
              "</style>\n",
              "<table border=\"1\" class=\"dataframe\">\n",
              "  <thead>\n",
              "    <tr style=\"text-align: right;\">\n",
              "      <th></th>\n",
              "      <th>score</th>\n",
              "      <th>comment</th>\n",
              "    </tr>\n",
              "  </thead>\n",
              "  <tbody>\n",
              "    <tr>\n",
              "      <th>59</th>\n",
              "      <td>-1</td>\n",
              "      <td>من این گوشی رو 2 سال داشتم واقعا توی این دو سا...</td>\n",
              "    </tr>\n",
              "    <tr>\n",
              "      <th>61</th>\n",
              "      <td>-1</td>\n",
              "      <td>از دی جی کالا تشکر میکنم و متوجه دلیل تایید نش...</td>\n",
              "    </tr>\n",
              "    <tr>\n",
              "      <th>66</th>\n",
              "      <td>-1</td>\n",
              "      <td>با سلام خدمت دوستان. یه مورد جالب در مورد این ...</td>\n",
              "    </tr>\n",
              "    <tr>\n",
              "      <th>68</th>\n",
              "      <td>-1</td>\n",
              "      <td>نسبت به گوشی های هم رده خودش قیمت بالایی داره</td>\n",
              "    </tr>\n",
              "    <tr>\n",
              "      <th>128</th>\n",
              "      <td>-1</td>\n",
              "      <td>موبایله خوبیه . طول عمر باطریشم بالاست صفحه نم...</td>\n",
              "    </tr>\n",
              "    <tr>\n",
              "      <th>...</th>\n",
              "      <td>...</td>\n",
              "      <td>...</td>\n",
              "    </tr>\n",
              "    <tr>\n",
              "      <th>200453</th>\n",
              "      <td>-1</td>\n",
              "      <td>پيشنهاد ميکنم براي اين رنج قيمت xperia SL بخريد</td>\n",
              "    </tr>\n",
              "    <tr>\n",
              "      <th>200517</th>\n",
              "      <td>-1</td>\n",
              "      <td>ال جی این بار خراب کرده امیدوارم تو ورژن های ب...</td>\n",
              "    </tr>\n",
              "    <tr>\n",
              "      <th>200561</th>\n",
              "      <td>-1</td>\n",
              "      <td>به نظر من ارزش خريد نداره.فک نميکنم 0.1اينج بز...</td>\n",
              "    </tr>\n",
              "    <tr>\n",
              "      <th>200605</th>\n",
              "      <td>-1</td>\n",
              "      <td>فقط توي بعضي از بازي هاي HD که توي يک صحنه چند...</td>\n",
              "    </tr>\n",
              "    <tr>\n",
              "      <th>200661</th>\n",
              "      <td>-1</td>\n",
              "      <td>من 1 ساله دارمش واقعا بده. هنگ زیاد داغ شدن زی...</td>\n",
              "    </tr>\n",
              "  </tbody>\n",
              "</table>\n",
              "<p>4194 rows × 2 columns</p>\n",
              "</div>"
            ],
            "text/plain": [
              "        score                                            comment\n",
              "59         -1  من این گوشی رو 2 سال داشتم واقعا توی این دو سا...\n",
              "61         -1  از دی جی کالا تشکر میکنم و متوجه دلیل تایید نش...\n",
              "66         -1  با سلام خدمت دوستان. یه مورد جالب در مورد این ...\n",
              "68         -1      نسبت به گوشی های هم رده خودش قیمت بالایی داره\n",
              "128        -1  موبایله خوبیه . طول عمر باطریشم بالاست صفحه نم...\n",
              "...       ...                                                ...\n",
              "200453     -1    پيشنهاد ميکنم براي اين رنج قيمت xperia SL بخريد\n",
              "200517     -1  ال جی این بار خراب کرده امیدوارم تو ورژن های ب...\n",
              "200561     -1  به نظر من ارزش خريد نداره.فک نميکنم 0.1اينج بز...\n",
              "200605     -1  فقط توي بعضي از بازي هاي HD که توي يک صحنه چند...\n",
              "200661     -1  من 1 ساله دارمش واقعا بده. هنگ زیاد داغ شدن زی...\n",
              "\n",
              "[4194 rows x 2 columns]"
            ]
          },
          "metadata": {
            "tags": []
          },
          "execution_count": 6
        }
      ]
    },
    {
      "cell_type": "code",
      "metadata": {
        "id": "zmyoyTeBrC4e"
      },
      "source": [
        "# df.loc[df['score'] == -1, 'score'] = 0"
      ],
      "execution_count": null,
      "outputs": []
    },
    {
      "cell_type": "code",
      "metadata": {
        "colab": {
          "base_uri": "https://localhost:8080/"
        },
        "id": "-3WhbiWBrL_S",
        "outputId": "81970912-9a63-4e7a-8d5d-f4ed7b20223a"
      },
      "source": [
        "print(len(df[df.score == -1]))"
      ],
      "execution_count": null,
      "outputs": [
        {
          "output_type": "stream",
          "text": [
            "4194\n"
          ],
          "name": "stdout"
        }
      ]
    },
    {
      "cell_type": "code",
      "metadata": {
        "colab": {
          "base_uri": "https://localhost:8080/"
        },
        "id": "15hZk9dLBEUC",
        "outputId": "0438107e-6471-45ed-ceb3-f10cf452a52c"
      },
      "source": [
        "print(len(df[df.score == 1]))"
      ],
      "execution_count": null,
      "outputs": [
        {
          "output_type": "stream",
          "text": [
            "45823\n"
          ],
          "name": "stdout"
        }
      ]
    },
    {
      "cell_type": "code",
      "metadata": {
        "id": "6u4NrsOT77NJ"
      },
      "source": [
        "def plot(history):\n",
        "    plt.plot(history.history['accuracy'])\n",
        "    plt.plot(history.history['val_accuracy'])\n",
        "    plt.title('model accuracy')\n",
        "    plt.ylabel('accuracy')\n",
        "    plt.xlabel('epoch')\n",
        "    plt.legend(['train', 'test'], loc='upper left')\n",
        "    plt.show()\n",
        "    # summarize history for loss\n",
        "    plt.plot(history.history['loss'])\n",
        "    plt.plot(history.history['val_loss'])\n",
        "    plt.title('model loss')\n",
        "    plt.ylabel('loss')\n",
        "    plt.xlabel('epoch')\n",
        "    plt.legend(['train', 'test'], loc='upper left')\n",
        "    plt.show()"
      ],
      "execution_count": null,
      "outputs": []
    },
    {
      "cell_type": "markdown",
      "metadata": {
        "id": "CKICj2_vIq6G"
      },
      "source": [
        "# Sentiment Analysis"
      ]
    },
    {
      "cell_type": "code",
      "metadata": {
        "id": "mk3SWj1_-MeE"
      },
      "source": [
        "x_train, x_test, y_train, y_test = train_test_split(df.comment, df.score, test_size=0.2, random_state=42)"
      ],
      "execution_count": null,
      "outputs": []
    },
    {
      "cell_type": "code",
      "metadata": {
        "colab": {
          "base_uri": "https://localhost:8080/"
        },
        "id": "kdriiINz001s",
        "outputId": "6ae31e89-ed18-4a79-cc32-825f1805adeb"
      },
      "source": [
        "print(x_train.shape)\n",
        "print(x_test.shape)"
      ],
      "execution_count": null,
      "outputs": [
        {
          "output_type": "stream",
          "text": [
            "(40013,)\n",
            "(10004,)\n"
          ],
          "name": "stdout"
        }
      ]
    },
    {
      "cell_type": "code",
      "metadata": {
        "id": "ITPXaLpI-G7y"
      },
      "source": [
        "epochs = 4\n",
        "batch_size = 32\n",
        "\n",
        "n_dim = 64\n",
        "n_unique_words = 5000\n",
        "max_text_length = 500\n",
        "pad_type = trunc_type = 'pre'\n",
        "drop_embed = 0.2\n",
        "\n",
        "n_lstm = 256\n",
        "drop_lstm = 0.2"
      ],
      "execution_count": null,
      "outputs": []
    },
    {
      "cell_type": "code",
      "metadata": {
        "id": "36lf4yl64lQ2"
      },
      "source": [
        "token = Tokenizer(num_words=n_unique_words, lower=False)\n",
        "token.fit_on_texts(x_train)\n",
        "\n",
        "\n",
        "train_sequences = token.texts_to_sequences(x_train)\n",
        "train_sequences_matrix = pad_sequences(train_sequences, maxlen=max_text_length)\n",
        "\n",
        "\n",
        "test_sequences = token.texts_to_sequences(x_test)\n",
        "test_sequences_matrix = pad_sequences(test_sequences, maxlen=max_text_length)"
      ],
      "execution_count": null,
      "outputs": []
    },
    {
      "cell_type": "code",
      "metadata": {
        "colab": {
          "base_uri": "https://localhost:8080/"
        },
        "id": "m6JdguwA1Tcz",
        "outputId": "3ca45dbf-e213-4c52-87ad-2e8283417846"
      },
      "source": [
        "print(len(train_sequences_matrix[0]))"
      ],
      "execution_count": null,
      "outputs": [
        {
          "output_type": "stream",
          "text": [
            "500\n"
          ],
          "name": "stdout"
        }
      ]
    },
    {
      "cell_type": "markdown",
      "metadata": {
        "id": "K7ug1iHstpXh"
      },
      "source": [
        "#LSTM"
      ]
    },
    {
      "cell_type": "code",
      "metadata": {
        "id": "Ocqw7cYpjCv1"
      },
      "source": [
        "def LSTM_NN():\n",
        "    model = Sequential()\n",
        "    model.add(Embedding(n_unique_words, n_dim, input_length=max_text_length))\n",
        "    model.add(SpatialDropout1D(drop_embed))\n",
        "    model.add(LSTM(n_lstm, dropout=drop_lstm))\n",
        "    model.add(Dense(1, activation='sigmoid'))\n",
        "    return model"
      ],
      "execution_count": null,
      "outputs": []
    },
    {
      "cell_type": "code",
      "metadata": {
        "colab": {
          "base_uri": "https://localhost:8080/"
        },
        "id": "_exHJED2jHcb",
        "outputId": "e83cf04c-a20b-4bef-ddbe-569c15ff94e8"
      },
      "source": [
        "model = LSTM_NN()\n",
        "model.summary()"
      ],
      "execution_count": null,
      "outputs": [
        {
          "output_type": "stream",
          "text": [
            "Model: \"sequential_10\"\n",
            "_________________________________________________________________\n",
            "Layer (type)                 Output Shape              Param #   \n",
            "=================================================================\n",
            "embedding_9 (Embedding)      (None, 500, 64)           320000    \n",
            "_________________________________________________________________\n",
            "spatial_dropout1d_3 (Spatial (None, 500, 64)           0         \n",
            "_________________________________________________________________\n",
            "lstm_6 (LSTM)                (None, 256)               328704    \n",
            "_________________________________________________________________\n",
            "dense_12 (Dense)             (None, 1)                 257       \n",
            "=================================================================\n",
            "Total params: 648,961\n",
            "Trainable params: 648,961\n",
            "Non-trainable params: 0\n",
            "_________________________________________________________________\n"
          ],
          "name": "stdout"
        }
      ]
    },
    {
      "cell_type": "code",
      "metadata": {
        "colab": {
          "base_uri": "https://localhost:8080/"
        },
        "id": "e3enz4Qh1YVU",
        "outputId": "3738552f-de3f-4551-c187-0c31afe67471"
      },
      "source": [
        "model.compile(loss='binary_crossentropy',optimizer='adam',metrics=['accuracy'])\n",
        "\n",
        "history = model.fit(train_sequences_matrix, y_train, \n",
        "          batch_size=batch_size, \n",
        "          epochs=epochs, \n",
        "          verbose=1, \n",
        "          validation_data=(test_sequences_matrix, y_test))"
      ],
      "execution_count": null,
      "outputs": [
        {
          "output_type": "stream",
          "text": [
            "Epoch 1/4\n",
            "1251/1251 [==============================] - 59s 46ms/step - loss: 0.3955 - accuracy: 0.8982 - val_loss: 0.3396 - val_accuracy: 0.8955\n",
            "Epoch 2/4\n",
            "1251/1251 [==============================] - 57s 46ms/step - loss: 0.2854 - accuracy: 0.8866 - val_loss: 0.1584 - val_accuracy: 0.8659\n",
            "Epoch 3/4\n",
            "1251/1251 [==============================] - 57s 45ms/step - loss: 0.0723 - accuracy: 0.8642 - val_loss: -0.3309 - val_accuracy: 0.8580\n",
            "Epoch 4/4\n",
            "1251/1251 [==============================] - 57s 45ms/step - loss: -0.3513 - accuracy: 0.8406 - val_loss: -0.1652 - val_accuracy: 0.8865\n"
          ],
          "name": "stdout"
        }
      ]
    },
    {
      "cell_type": "code",
      "metadata": {
        "colab": {
          "base_uri": "https://localhost:8080/",
          "height": 573
        },
        "id": "KFPw8a9M7-qA",
        "outputId": "dbabd413-985d-4b34-af33-bc620691b030"
      },
      "source": [
        "plot(history)"
      ],
      "execution_count": null,
      "outputs": [
        {
          "output_type": "display_data",
          "data": {
            "image/png": "[encoded data removed]",
            "text/plain": [
              "<Figure size 432x288 with 1 Axes>"
            ]
          },
          "metadata": {
            "tags": [],
            "needs_background": "light"
          }
        },
        {
          "output_type": "display_data",
          "data": {
            "image/png": "[encoded data removed]",
            "text/plain": [
              "<Figure size 432x288 with 1 Axes>"
            ]
          },
          "metadata": {
            "tags": [],
            "needs_background": "light"
          }
        }
      ]
    },
    {
      "cell_type": "code",
      "metadata": {
        "colab": {
          "base_uri": "https://localhost:8080/"
        },
        "id": "pumGiFBrn7Sq",
        "outputId": "e171ebe1-5c7c-419a-933c-183705468384"
      },
      "source": [
        "model.evaluate(test_sequences_matrix, y_test)"
      ],
      "execution_count": null,
      "outputs": [
        {
          "output_type": "stream",
          "text": [
            "313/313 [==============================] - 5s 15ms/step - loss: -0.1652 - accuracy: 0.8865\n"
          ],
          "name": "stdout"
        },
        {
          "output_type": "execute_result",
          "data": {
            "text/plain": [
              "[-0.1652224361896515, 0.8865453600883484]"
            ]
          },
          "metadata": {
            "tags": []
          },
          "execution_count": 85
        }
      ]
    },
    {
      "cell_type": "code",
      "metadata": {
        "colab": {
          "base_uri": "https://localhost:8080/",
          "height": 318
        },
        "id": "3kc9KTcSLjeF",
        "outputId": "ee5025eb-1647-43ae-f881-5212fb13f87e"
      },
      "source": [
        "y_predict = model.predict_proba(test_sequences_matrix)\n",
        "\n",
        "plt.hist(y_predict)\n",
        "_ = plt.axvline(x=.5, color='orange')"
      ],
      "execution_count": null,
      "outputs": [
        {
          "output_type": "stream",
          "text": [
            "/usr/local/lib/python3.6/dist-packages/tensorflow/python/keras/engine/sequential.py:425: UserWarning: `model.predict_proba()` is deprecated and will be removed after 2021-01-01. Please use `model.predict()` instead.\n",
            "  warnings.warn('`model.predict_proba()` is deprecated and '\n"
          ],
          "name": "stderr"
        },
        {
          "output_type": "display_data",
          "data": {
            "image/png": "[encoded data removed]",
            "text/plain": [
              "<Figure size 432x288 with 1 Axes>"
            ]
          },
          "metadata": {
            "tags": [],
            "needs_background": "light"
          }
        }
      ]
    },
    {
      "cell_type": "code",
      "metadata": {
        "colab": {
          "base_uri": "https://localhost:8080/"
        },
        "id": "GuYq6HxEnKXo",
        "outputId": "7cba66e3-3344-4164-d705-93d62df9334e"
      },
      "source": [
        "sen = 'بسیار مزخرف'\n",
        "sen_sequences = token.texts_to_sequences(sen)\n",
        "sen_sequences_pad = pad_sequences(sen_sequences, maxlen=max_text_length)\n",
        "\n",
        "pre = model.predict(sen_sequences_pad)\n",
        "print(pre)"
      ],
      "execution_count": null,
      "outputs": [
        {
          "output_type": "stream",
          "text": [
            "[[4.8014138e-19]\n",
            " [6.6116900e-07]\n",
            " [8.0188755e-12]\n",
            " [1.7248728e-25]\n",
            " [3.9694445e-18]\n",
            " [1.1678125e-15]\n",
            " [3.5638905e-08]\n",
            " [1.1022643e-11]\n",
            " [1.1678125e-15]\n",
            " [3.9694450e-18]\n",
            " [1.1678125e-15]]\n"
          ],
          "name": "stdout"
        }
      ]
    },
    {
      "cell_type": "code",
      "metadata": {
        "colab": {
          "base_uri": "https://localhost:8080/"
        },
        "id": "K8rZw5-HnvSV",
        "outputId": "a6e888e1-fb06-42cb-d7e9-6c79848b864b"
      },
      "source": [
        "sen = 'بسیار عالی'\n",
        "sen_sequences = token.texts_to_sequences(sen)\n",
        "sen_sequences_pad = pad_sequences(sen_sequences, maxlen=max_text_length)\n",
        "\n",
        "pre = model.predict_classes(sen_sequences_pad)\n",
        "print(pre)"
      ],
      "execution_count": null,
      "outputs": [
        {
          "output_type": "stream",
          "text": [
            "[[0]\n",
            " [0]\n",
            " [0]\n",
            " [0]\n",
            " [0]\n",
            " [0]\n",
            " [0]\n",
            " [0]\n",
            " [0]\n",
            " [0]]\n"
          ],
          "name": "stdout"
        },
        {
          "output_type": "stream",
          "text": [
            "/usr/local/lib/python3.6/dist-packages/tensorflow/python/keras/engine/sequential.py:450: UserWarning: `model.predict_classes()` is deprecated and will be removed after 2021-01-01. Please use instead:* `np.argmax(model.predict(x), axis=-1)`,   if your model does multi-class classification   (e.g. if it uses a `softmax` last-layer activation).* `(model.predict(x) > 0.5).astype(\"int32\")`,   if your model does binary classification   (e.g. if it uses a `sigmoid` last-layer activation).\n",
            "  warnings.warn('`model.predict_classes()` is deprecated and '\n"
          ],
          "name": "stderr"
        }
      ]
    },
    {
      "cell_type": "markdown",
      "metadata": {
        "id": "tZnbVvBiodjX"
      },
      "source": [
        "#LSTM Bidirectional"
      ]
    },
    {
      "cell_type": "code",
      "metadata": {
        "id": "ybgAIIoTodj2"
      },
      "source": [
        "def BI_LSTM():\n",
        "    model = Sequential()\n",
        "    model.add(Embedding(n_unique_words, n_dim, input_length=max_text_length))\n",
        "    model.add(SpatialDropout1D(drop_embed))\n",
        "    model.add(Bidirectional(LSTM(n_lstm, dropout=drop_lstm)))\n",
        "    model.add(Dense(1, activation='sigmoid'))\n",
        "    return model"
      ],
      "execution_count": null,
      "outputs": []
    },
    {
      "cell_type": "code",
      "metadata": {
        "colab": {
          "base_uri": "https://localhost:8080/"
        },
        "id": "MrGpWQURodj3",
        "outputId": "7c1cf248-3a39-4470-f317-2bd570d80968"
      },
      "source": [
        "model = BI_LSTM()\n",
        "model.summary()"
      ],
      "execution_count": null,
      "outputs": [
        {
          "output_type": "stream",
          "text": [
            "Model: \"sequential_11\"\n",
            "_________________________________________________________________\n",
            "Layer (type)                 Output Shape              Param #   \n",
            "=================================================================\n",
            "embedding_10 (Embedding)     (None, 500, 64)           320000    \n",
            "_________________________________________________________________\n",
            "spatial_dropout1d_4 (Spatial (None, 500, 64)           0         \n",
            "_________________________________________________________________\n",
            "bidirectional_1 (Bidirection (None, 512)               657408    \n",
            "_________________________________________________________________\n",
            "dense_13 (Dense)             (None, 1)                 513       \n",
            "=================================================================\n",
            "Total params: 977,921\n",
            "Trainable params: 977,921\n",
            "Non-trainable params: 0\n",
            "_________________________________________________________________\n"
          ],
          "name": "stdout"
        }
      ]
    },
    {
      "cell_type": "code",
      "metadata": {
        "colab": {
          "base_uri": "https://localhost:8080/"
        },
        "id": "peA-JqFpodj5",
        "outputId": "3a15b9ed-3c1d-4f55-f81c-1d5beb45dfa3"
      },
      "source": [
        "model.compile(loss='binary_crossentropy',optimizer='adam',metrics=['accuracy'])\n",
        "\n",
        "history = model.fit(train_sequences_matrix, y_train, \n",
        "          batch_size=batch_size, \n",
        "          epochs=epochs, \n",
        "          verbose=1, \n",
        "          validation_data=(test_sequences_matrix, y_test))"
      ],
      "execution_count": null,
      "outputs": [
        {
          "output_type": "stream",
          "text": [
            "Epoch 1/4\n",
            "1251/1251 [==============================] - 107s 84ms/step - loss: 0.4088 - accuracy: 0.8964 - val_loss: 0.3561 - val_accuracy: 0.9115\n",
            "Epoch 2/4\n",
            "1251/1251 [==============================] - 105s 84ms/step - loss: 0.1866 - accuracy: 0.8688 - val_loss: 0.3001 - val_accuracy: 0.9048\n",
            "Epoch 3/4\n",
            "1251/1251 [==============================] - 106s 85ms/step - loss: 0.1243 - accuracy: 0.8609 - val_loss: -0.1415 - val_accuracy: 0.8797\n",
            "Epoch 4/4\n",
            "1251/1251 [==============================] - 106s 85ms/step - loss: -0.6196 - accuracy: 0.8712 - val_loss: -0.3524 - val_accuracy: 0.8844\n"
          ],
          "name": "stdout"
        }
      ]
    },
    {
      "cell_type": "code",
      "metadata": {
        "colab": {
          "base_uri": "https://localhost:8080/"
        },
        "id": "z4tDlP5Codj6",
        "outputId": "ff2db578-12ec-44e9-e34b-385d5422f2d8"
      },
      "source": [
        "plot(history)"
      ],
      "execution_count": null,
      "outputs": [
        {
          "output_type": "display_data",
          "data": {
            "image/png": "[encoded data removed]",
            "text/plain": [
              "<Figure size 432x288 with 1 Axes>"
            ]
          },
          "metadata": {
            "tags": [],
            "needs_background": "light"
          }
        },
        {
          "output_type": "display_data",
          "data": {
            "image/png": "[encoded data removed]",
            "text/plain": [
              "<Figure size 432x288 with 1 Axes>"
            ]
          },
          "metadata": {
            "tags": [],
            "needs_background": "light"
          }
        }
      ]
    },
    {
      "cell_type": "code",
      "metadata": {
        "colab": {
          "base_uri": "https://localhost:8080/"
        },
        "id": "DZoqll5kodj7",
        "outputId": "293f21e8-8f71-4a84-f133-840978143b78"
      },
      "source": [
        "model.evaluate(test_sequences_matrix, y_test)"
      ],
      "execution_count": null,
      "outputs": [
        {
          "output_type": "stream",
          "text": [
            "313/313 [==============================] - 9s 28ms/step - loss: -0.3524 - accuracy: 0.8844\n"
          ],
          "name": "stdout"
        },
        {
          "output_type": "execute_result",
          "data": {
            "text/plain": [
              "[-0.3523958623409271, 0.8844462037086487]"
            ]
          },
          "metadata": {
            "tags": []
          },
          "execution_count": 93
        }
      ]
    },
    {
      "cell_type": "code",
      "metadata": {
        "colab": {
          "base_uri": "https://localhost:8080/"
        },
        "id": "NBuPp-K8odj8",
        "outputId": "c35c6ef7-ecb6-493f-b373-2c0e0361a250"
      },
      "source": [
        "y_predict = model.predict_proba(test_sequences_matrix)\n",
        "\n",
        "plt.hist(y_predict)\n",
        "_ = plt.axvline(x=.5, color='orange')"
      ],
      "execution_count": null,
      "outputs": [
        {
          "output_type": "stream",
          "text": [
            "/usr/local/lib/python3.6/dist-packages/tensorflow/python/keras/engine/sequential.py:425: UserWarning: `model.predict_proba()` is deprecated and will be removed after 2021-01-01. Please use `model.predict()` instead.\n",
            "  warnings.warn('`model.predict_proba()` is deprecated and '\n"
          ],
          "name": "stderr"
        },
        {
          "output_type": "display_data",
          "data": {
            "image/png": "[encoded data removed]",
            "text/plain": [
              "<Figure size 432x288 with 1 Axes>"
            ]
          },
          "metadata": {
            "tags": [],
            "needs_background": "light"
          }
        }
      ]
    },
    {
      "cell_type": "code",
      "metadata": {
        "colab": {
          "base_uri": "https://localhost:8080/"
        },
        "id": "2skjXjmNodj8",
        "outputId": "f98796ac-6c30-430e-8f38-ef93930a2635"
      },
      "source": [
        "sen = 'بسیار مزخرف'\n",
        "sen_sequences = token.texts_to_sequences(sen)\n",
        "sen_sequences_pad = pad_sequences(sen_sequences, maxlen=max_text_length)\n",
        "\n",
        "pre = model.predict(sen_sequences_pad)\n",
        "print(pre)"
      ],
      "execution_count": null,
      "outputs": [
        {
          "output_type": "stream",
          "text": [
            "[[1.9131983e-05]\n",
            " [7.4790919e-01]\n",
            " [3.0482438e-01]\n",
            " [3.5798384e-16]\n",
            " [4.5035580e-05]\n",
            " [6.9839596e-05]\n",
            " [7.4734908e-01]\n",
            " [1.1113866e-02]\n",
            " [6.9839596e-05]\n",
            " [4.5035576e-05]\n",
            " [6.9839596e-05]]\n"
          ],
          "name": "stdout"
        }
      ]
    },
    {
      "cell_type": "code",
      "metadata": {
        "colab": {
          "base_uri": "https://localhost:8080/"
        },
        "id": "qyIai93godj9",
        "outputId": "0977172d-45b3-41a9-8111-66aa98c35ec6"
      },
      "source": [
        "sen = 'بسیار عالی'\n",
        "sen_sequences = token.texts_to_sequences(sen)\n",
        "sen_sequences_pad = pad_sequences(sen_sequences, maxlen=max_text_length)\n",
        "\n",
        "pre = model.predict_classes(sen_sequences_pad)\n",
        "print(pre)"
      ],
      "execution_count": null,
      "outputs": [
        {
          "output_type": "stream",
          "text": [
            "[[0]\n",
            " [1]\n",
            " [0]\n",
            " [0]\n",
            " [0]\n",
            " [0]\n",
            " [0]\n",
            " [0]\n",
            " [0]\n",
            " [0]]\n"
          ],
          "name": "stdout"
        },
        {
          "output_type": "stream",
          "text": [
            "/usr/local/lib/python3.6/dist-packages/tensorflow/python/keras/engine/sequential.py:450: UserWarning: `model.predict_classes()` is deprecated and will be removed after 2021-01-01. Please use instead:* `np.argmax(model.predict(x), axis=-1)`,   if your model does multi-class classification   (e.g. if it uses a `softmax` last-layer activation).* `(model.predict(x) > 0.5).astype(\"int32\")`,   if your model does binary classification   (e.g. if it uses a `sigmoid` last-layer activation).\n",
            "  warnings.warn('`model.predict_classes()` is deprecated and '\n"
          ],
          "name": "stderr"
        }
      ]
    },
    {
      "cell_type": "markdown",
      "metadata": {
        "id": "YYWQAZAdtoZp"
      },
      "source": [
        "#model 3"
      ]
    },
    {
      "cell_type": "code",
      "metadata": {
        "id": "UkPO9gBwtoaL"
      },
      "source": [
        "def LSTM_NN_BI():\n",
        "    model = Sequential()\n",
        "    model.add(Embedding(n_unique_words, n_dim, input_length=max_text_length))\n",
        "    model.add(SpatialDropout1D(drop_embed))\n",
        "    model.add(Bidirectional(LSTM(256, dropout=drop_lstm, return_sequences=True)))\n",
        "    model.add(Bidirectional(LSTM(256, dropout=drop_lstm)))\n",
        "    model.add(Dense(1, activation='sigmoid'))\n",
        "    return model"
      ],
      "execution_count": null,
      "outputs": []
    },
    {
      "cell_type": "code",
      "metadata": {
        "colab": {
          "base_uri": "https://localhost:8080/"
        },
        "id": "5Sk_PZXOtoaM",
        "outputId": "a4ca411b-4ba0-425a-f32c-16d04f019cbd"
      },
      "source": [
        "model = LSTM_NN_BI()\n",
        "model.summary()"
      ],
      "execution_count": null,
      "outputs": [
        {
          "output_type": "stream",
          "text": [
            "Model: \"sequential_12\"\n",
            "_________________________________________________________________\n",
            "Layer (type)                 Output Shape              Param #   \n",
            "=================================================================\n",
            "embedding_11 (Embedding)     (None, 500, 64)           320000    \n",
            "_________________________________________________________________\n",
            "spatial_dropout1d_5 (Spatial (None, 500, 64)           0         \n",
            "_________________________________________________________________\n",
            "bidirectional_2 (Bidirection (None, 500, 512)          657408    \n",
            "_________________________________________________________________\n",
            "bidirectional_3 (Bidirection (None, 512)               1574912   \n",
            "_________________________________________________________________\n",
            "dense_14 (Dense)             (None, 1)                 513       \n",
            "=================================================================\n",
            "Total params: 2,552,833\n",
            "Trainable params: 2,552,833\n",
            "Non-trainable params: 0\n",
            "_________________________________________________________________\n"
          ],
          "name": "stdout"
        }
      ]
    },
    {
      "cell_type": "code",
      "metadata": {
        "colab": {
          "base_uri": "https://localhost:8080/"
        },
        "id": "9lorqVoZtoaO",
        "outputId": "5a98eaba-fdff-4a90-a8c2-265753ce0c5a"
      },
      "source": [
        "model.compile(loss='binary_crossentropy',optimizer='adam',metrics=['accuracy'])\n",
        "\n",
        "history = model.fit(train_sequences_matrix, y_train, \n",
        "          batch_size=batch_size, \n",
        "          epochs=epochs, \n",
        "          verbose=1, \n",
        "          validation_data=(test_sequences_matrix, y_test))"
      ],
      "execution_count": null,
      "outputs": [
        {
          "output_type": "stream",
          "text": [
            "Epoch 1/4\n",
            "1251/1251 [==============================] - 235s 184ms/step - loss: 0.3441 - accuracy: 0.8851 - val_loss: -0.7645 - val_accuracy: 0.9113\n",
            "Epoch 2/4\n",
            "1251/1251 [==============================] - 234s 187ms/step - loss: -1.3949 - accuracy: 0.8898 - val_loss: -2.4776 - val_accuracy: 0.9040\n",
            "Epoch 3/4\n",
            "1251/1251 [==============================] - 234s 187ms/step - loss: -3.1154 - accuracy: 0.8841 - val_loss: 3.3178 - val_accuracy: 0.8670\n",
            "Epoch 4/4\n",
            "1251/1251 [==============================] - 234s 187ms/step - loss: 0.5872 - accuracy: 0.8657 - val_loss: -1.1316 - val_accuracy: 0.8611\n"
          ],
          "name": "stdout"
        }
      ]
    },
    {
      "cell_type": "code",
      "metadata": {
        "colab": {
          "base_uri": "https://localhost:8080/",
          "height": 573
        },
        "id": "qp8V_M2VtoaP",
        "outputId": "bbf76ff9-9fbc-437a-80f0-f6fffa266146"
      },
      "source": [
        "plot(history)"
      ],
      "execution_count": null,
      "outputs": [
        {
          "output_type": "display_data",
          "data": {
            "image/png": "[encoded data removed]",
            "text/plain": [
              "<Figure size 432x288 with 1 Axes>"
            ]
          },
          "metadata": {
            "tags": [],
            "needs_background": "light"
          }
        },
        {
          "output_type": "display_data",
          "data": {
            "image/png": "[encoded data removed]",
            "text/plain": [
              "<Figure size 432x288 with 1 Axes>"
            ]
          },
          "metadata": {
            "tags": [],
            "needs_background": "light"
          }
        }
      ]
    },
    {
      "cell_type": "code",
      "metadata": {
        "colab": {
          "base_uri": "https://localhost:8080/"
        },
        "id": "B2q9wR05toaQ",
        "outputId": "c55ce817-4ef5-4545-f4c1-c51a46d37f8e"
      },
      "source": [
        "model.evaluate(test_sequences_matrix, y_test)"
      ],
      "execution_count": null,
      "outputs": [
        {
          "output_type": "stream",
          "text": [
            "313/313 [==============================] - 20s 63ms/step - loss: -1.1316 - accuracy: 0.8611\n"
          ],
          "name": "stdout"
        },
        {
          "output_type": "execute_result",
          "data": {
            "text/plain": [
              "[-1.1315807104110718, 0.8610555529594421]"
            ]
          },
          "metadata": {
            "tags": []
          },
          "execution_count": 101
        }
      ]
    },
    {
      "cell_type": "code",
      "metadata": {
        "colab": {
          "base_uri": "https://localhost:8080/"
        },
        "id": "WUz53JahtoaQ",
        "outputId": "02ee9bf3-6c83-403f-8a83-7cc9dd4b3db2"
      },
      "source": [
        "y_predict = model.predict_proba(test_sequences_matrix)\n",
        "\n",
        "plt.hist(y_predict)\n",
        "_ = plt.axvline(x=.5, color='orange')"
      ],
      "execution_count": null,
      "outputs": [
        {
          "output_type": "stream",
          "text": [
            "/usr/local/lib/python3.6/dist-packages/tensorflow/python/keras/engine/sequential.py:425: UserWarning: `model.predict_proba()` is deprecated and will be removed after 2021-01-01. Please use `model.predict()` instead.\n",
            "  warnings.warn('`model.predict_proba()` is deprecated and '\n"
          ],
          "name": "stderr"
        },
        {
          "output_type": "display_data",
          "data": {
            "image/png": "[encoded data removed]",
            "text/plain": [
              "<Figure size 432x288 with 1 Axes>"
            ]
          },
          "metadata": {
            "tags": [],
            "needs_background": "light"
          }
        }
      ]
    },
    {
      "cell_type": "code",
      "metadata": {
        "colab": {
          "base_uri": "https://localhost:8080/"
        },
        "id": "UFgBkSd7toaR",
        "outputId": "5713979e-3e8e-4567-9780-c517b021a4cc"
      },
      "source": [
        "sen = 'بسیار مزخرف'\n",
        "sen_sequences = token.texts_to_sequences(sen)\n",
        "sen_sequences_pad = pad_sequences(sen_sequences, maxlen=max_text_length)\n",
        "\n",
        "pre = model.predict(sen_sequences_pad)\n",
        "print(pre)"
      ],
      "execution_count": null,
      "outputs": [
        {
          "output_type": "stream",
          "text": [
            "[[0.2746082 ]\n",
            " [0.9679956 ]\n",
            " [0.43301898]\n",
            " [0.00110995]\n",
            " [0.53281873]\n",
            " [0.13527606]\n",
            " [0.944027  ]\n",
            " [0.4824851 ]\n",
            " [0.13527606]\n",
            " [0.53281873]\n",
            " [0.13527606]]\n"
          ],
          "name": "stdout"
        }
      ]
    },
    {
      "cell_type": "code",
      "metadata": {
        "colab": {
          "base_uri": "https://localhost:8080/"
        },
        "id": "z5bx-o1CtoaS",
        "outputId": "caf13be9-c860-4ef6-9102-8a62e18608b5"
      },
      "source": [
        "sen = 'بسیار عالی'\n",
        "sen_sequences = token.texts_to_sequences(sen)\n",
        "sen_sequences_pad = pad_sequences(sen_sequences, maxlen=max_text_length)\n",
        "\n",
        "pre = model.predict_classes(sen_sequences_pad)\n",
        "print(pre)"
      ],
      "execution_count": null,
      "outputs": [
        {
          "output_type": "stream",
          "text": [
            "[[0]\n",
            " [1]\n",
            " [0]\n",
            " [0]\n",
            " [1]\n",
            " [0]\n",
            " [0]\n",
            " [0]\n",
            " [0]\n",
            " [0]]\n"
          ],
          "name": "stdout"
        },
        {
          "output_type": "stream",
          "text": [
            "/usr/local/lib/python3.6/dist-packages/tensorflow/python/keras/engine/sequential.py:450: UserWarning: `model.predict_classes()` is deprecated and will be removed after 2021-01-01. Please use instead:* `np.argmax(model.predict(x), axis=-1)`,   if your model does multi-class classification   (e.g. if it uses a `softmax` last-layer activation).* `(model.predict(x) > 0.5).astype(\"int32\")`,   if your model does binary classification   (e.g. if it uses a `sigmoid` last-layer activation).\n",
            "  warnings.warn('`model.predict_classes()` is deprecated and '\n"
          ],
          "name": "stderr"
        }
      ]
    },
    {
      "cell_type": "markdown",
      "metadata": {
        "id": "Sc7VJ21GYauN"
      },
      "source": [
        "#Conv BI LSTM"
      ]
    },
    {
      "cell_type": "code",
      "metadata": {
        "id": "n8wsKkQSYaue"
      },
      "source": [
        "def LSTM_NN_BI_CONV():\n",
        "    model = Sequential()\n",
        "    model.add(Embedding(n_unique_words, n_dim, input_length=max_text_length))\n",
        "    model.add(SpatialDropout1D(drop_embed))\n",
        "    model.add(Conv1D(64, 3, activation='relu'))\n",
        "    model.add(MaxPooling1D(2))\n",
        "    model.add(  (LSTM(n_lstm, dropout=drop_lstm)))\n",
        "    model.add(Dense(1, activation='sigmoid'))\n",
        "    return model"
      ],
      "execution_count": null,
      "outputs": []
    },
    {
      "cell_type": "code",
      "metadata": {
        "colab": {
          "base_uri": "https://localhost:8080/"
        },
        "id": "nR2hvmWzYauf",
        "outputId": "f589fb41-4e56-445b-c171-9016463146d4"
      },
      "source": [
        "model = LSTM_NN_BI_CONV()\n",
        "model.summary()"
      ],
      "execution_count": null,
      "outputs": [
        {
          "output_type": "stream",
          "text": [
            "Model: \"sequential_2\"\n",
            "_________________________________________________________________\n",
            "Layer (type)                 Output Shape              Param #   \n",
            "=================================================================\n",
            "embedding_2 (Embedding)      (None, 500, 64)           320000    \n",
            "_________________________________________________________________\n",
            "spatial_dropout1d_2 (Spatial (None, 500, 64)           0         \n",
            "_________________________________________________________________\n",
            "conv1d (Conv1D)              (None, 498, 64)           12352     \n",
            "_________________________________________________________________\n",
            "max_pooling1d (MaxPooling1D) (None, 249, 64)           0         \n",
            "_________________________________________________________________\n",
            "bidirectional (Bidirectional (None, 512)               657408    \n",
            "_________________________________________________________________\n",
            "dense (Dense)                (None, 1)                 513       \n",
            "=================================================================\n",
            "Total params: 990,273\n",
            "Trainable params: 990,273\n",
            "Non-trainable params: 0\n",
            "_________________________________________________________________\n"
          ],
          "name": "stdout"
        }
      ]
    },
    {
      "cell_type": "code",
      "metadata": {
        "colab": {
          "base_uri": "https://localhost:8080/"
        },
        "id": "xZTTHBHkYauh",
        "outputId": "f60f37f2-017f-4213-93fd-b5a63216aa15"
      },
      "source": [
        "model.compile(loss='binary_crossentropy',optimizer='adam',metrics=['accuracy'])\n",
        "\n",
        "history = model.fit(train_sequences_matrix, y_train, \n",
        "          batch_size=batch_size, \n",
        "          epochs=10, \n",
        "          verbose=1, \n",
        "          validation_data=(test_sequences_matrix, y_test))"
      ],
      "execution_count": null,
      "outputs": [
        {
          "output_type": "stream",
          "text": [
            "Epoch 1/10\n",
            "313/313 [==============================] - 28s 79ms/step - loss: -4.0324 - accuracy: 0.8594 - val_loss: -3.0687 - val_accuracy: 0.8361\n",
            "Epoch 2/10\n",
            "313/313 [==============================] - 24s 77ms/step - loss: -6.6635 - accuracy: 0.8641 - val_loss: -4.5477 - val_accuracy: 0.8368\n",
            "Epoch 3/10\n",
            "313/313 [==============================] - 24s 77ms/step - loss: -10.0608 - accuracy: 0.8577 - val_loss: -5.6016 - val_accuracy: 0.8606\n",
            "Epoch 4/10\n",
            "313/313 [==============================] - 24s 76ms/step - loss: -14.0583 - accuracy: 0.8621 - val_loss: -7.2217 - val_accuracy: 0.8755\n",
            "Epoch 5/10\n",
            "313/313 [==============================] - 24s 76ms/step - loss: -16.7440 - accuracy: 0.8626 - val_loss: -7.8617 - val_accuracy: 0.8595\n",
            "Epoch 6/10\n",
            "313/313 [==============================] - 24s 76ms/step - loss: -21.8636 - accuracy: 0.8622 - val_loss: -9.7139 - val_accuracy: 0.7816\n",
            "Epoch 7/10\n",
            "313/313 [==============================] - 24s 76ms/step - loss: -19.9095 - accuracy: 0.8330 - val_loss: -6.0345 - val_accuracy: 0.8394\n",
            "Epoch 8/10\n",
            "313/313 [==============================] - 24s 76ms/step - loss: -30.6870 - accuracy: 0.8559 - val_loss: -9.8572 - val_accuracy: 0.8519\n",
            "Epoch 9/10\n",
            "313/313 [==============================] - 24s 76ms/step - loss: -30.0582 - accuracy: 0.8517 - val_loss: -7.3878 - val_accuracy: 0.8396\n",
            "Epoch 10/10\n",
            "313/313 [==============================] - 24s 76ms/step - loss: -35.9065 - accuracy: 0.8522 - val_loss: -14.1281 - val_accuracy: 0.8330\n"
          ],
          "name": "stdout"
        }
      ]
    },
    {
      "cell_type": "code",
      "metadata": {
        "colab": {
          "base_uri": "https://localhost:8080/",
          "height": 573
        },
        "id": "gPivg7CcYaui",
        "outputId": "d642cd22-1faf-4f59-fd78-67c92f747969"
      },
      "source": [
        "plot(history)"
      ],
      "execution_count": null,
      "outputs": [
        {
          "output_type": "display_data",
          "data": {
            "image/png": "[encoded data removed]",
            "text/plain": [
              "<Figure size 432x288 with 1 Axes>"
            ]
          },
          "metadata": {
            "tags": [],
            "needs_background": "light"
          }
        },
        {
          "output_type": "display_data",
          "data": {
            "image/png": "[encoded data removed]",
            "text/plain": [
              "<Figure size 432x288 with 1 Axes>"
            ]
          },
          "metadata": {
            "tags": [],
            "needs_background": "light"
          }
        }
      ]
    },
    {
      "cell_type": "code",
      "metadata": {
        "colab": {
          "base_uri": "https://localhost:8080/"
        },
        "id": "ku7rya82Yauj",
        "outputId": "a21ee38e-5021-4de7-c2fb-95864af405a7"
      },
      "source": [
        "model.evaluate(test_sequences_matrix, y_test)"
      ],
      "execution_count": null,
      "outputs": [
        {
          "output_type": "stream",
          "text": [
            "313/313 [==============================] - 5s 15ms/step - loss: -14.1281 - accuracy: 0.8330\n"
          ],
          "name": "stdout"
        },
        {
          "output_type": "execute_result",
          "data": {
            "text/plain": [
              "[-14.128059387207031, 0.8329668045043945]"
            ]
          },
          "metadata": {
            "tags": []
          },
          "execution_count": 27
        }
      ]
    },
    {
      "cell_type": "code",
      "metadata": {
        "colab": {
          "base_uri": "https://localhost:8080/",
          "height": 318
        },
        "id": "Strzcw73Yauj",
        "outputId": "e0010111-2db4-4de7-81b1-3fa6373c7dfd"
      },
      "source": [
        "y_predict = model.predict_proba(test_sequences_matrix)\n",
        "\n",
        "plt.hist(y_predict)\n",
        "_ = plt.axvline(x=.5, color='orange')"
      ],
      "execution_count": null,
      "outputs": [
        {
          "output_type": "stream",
          "text": [
            "/usr/local/lib/python3.6/dist-packages/tensorflow/python/keras/engine/sequential.py:425: UserWarning: `model.predict_proba()` is deprecated and will be removed after 2021-01-01. Please use `model.predict()` instead.\n",
            "  warnings.warn('`model.predict_proba()` is deprecated and '\n"
          ],
          "name": "stderr"
        },
        {
          "output_type": "display_data",
          "data": {
            "image/png": "[encoded data removed]",
            "text/plain": [
              "<Figure size 432x288 with 1 Axes>"
            ]
          },
          "metadata": {
            "tags": [],
            "needs_background": "light"
          }
        }
      ]
    },
    {
      "cell_type": "code",
      "metadata": {
        "colab": {
          "base_uri": "https://localhost:8080/"
        },
        "id": "Y6q_mwWuYauk",
        "outputId": "1e09d48a-009e-4e1b-95a9-d8adf4bbdc21"
      },
      "source": [
        "sen = 'بسیار مزخرف'\n",
        "sen_sequences = token.texts_to_sequences(sen)\n",
        "sen_sequences_pad = pad_sequences(sen_sequences, maxlen=max_text_length)\n",
        "\n",
        "pre = model.predict(sen_sequences_pad)\n",
        "print(pre)"
      ],
      "execution_count": null,
      "outputs": [
        {
          "output_type": "stream",
          "text": [
            "[[3.14735662e-05]\n",
            " [2.53569216e-01]\n",
            " [1.38308023e-04]\n",
            " [1.57959922e-03]\n",
            " [1.33111526e-03]\n",
            " [8.20240821e-04]\n",
            " [1.24118865e-01]\n",
            " [2.06241190e-01]\n",
            " [8.20240821e-04]\n",
            " [1.33111526e-03]\n",
            " [8.20240821e-04]]\n"
          ],
          "name": "stdout"
        }
      ]
    },
    {
      "cell_type": "code",
      "metadata": {
        "colab": {
          "base_uri": "https://localhost:8080/"
        },
        "id": "faUODNX0Yaul",
        "outputId": "7a786e50-0ee0-4b0b-e59e-83d506d89d64"
      },
      "source": [
        "sen = 'بسیار عالی'\n",
        "sen_sequences = token.texts_to_sequences(sen)\n",
        "sen_sequences_pad = pad_sequences(sen_sequences, maxlen=max_text_length)\n",
        "\n",
        "pre = model.predict_classes(sen_sequences_pad)\n",
        "print(pre)"
      ],
      "execution_count": null,
      "outputs": [
        {
          "output_type": "stream",
          "text": [
            "[[0]\n",
            " [0]\n",
            " [0]\n",
            " [0]\n",
            " [0]\n",
            " [0]\n",
            " [0]\n",
            " [0]\n",
            " [0]\n",
            " [0]]\n"
          ],
          "name": "stdout"
        },
        {
          "output_type": "stream",
          "text": [
            "/usr/local/lib/python3.6/dist-packages/tensorflow/python/keras/engine/sequential.py:450: UserWarning: `model.predict_classes()` is deprecated and will be removed after 2021-01-01. Please use instead:* `np.argmax(model.predict(x), axis=-1)`,   if your model does multi-class classification   (e.g. if it uses a `softmax` last-layer activation).* `(model.predict(x) > 0.5).astype(\"int32\")`,   if your model does binary classification   (e.g. if it uses a `sigmoid` last-layer activation).\n",
            "  warnings.warn('`model.predict_classes()` is deprecated and '\n"
          ],
          "name": "stderr"
        }
      ]
    },
    {
      "cell_type": "markdown",
      "metadata": {
        "id": "TSQrVYCqZ2hj"
      },
      "source": [
        "#LSTM Dropout (out)"
      ]
    },
    {
      "cell_type": "markdown",
      "metadata": {
        "id": "eK8nb5L0hgsl"
      },
      "source": [
        "## LSTM 100"
      ]
    },
    {
      "cell_type": "code",
      "metadata": {
        "id": "cf-a3z6RZ2hk"
      },
      "source": [
        "def LSTM_D_out():\n",
        "  model = Sequential()\n",
        "  model.add(Embedding(n_unique_words, n_dim, input_length=max_text_length))\n",
        "  model.add(Dropout(0.2))\n",
        "  model.add(LSTM(100))\n",
        "  model.add(Dropout(0.2))\n",
        "  model.add(Dense(1, activation='sigmoid'))\n",
        "  return model"
      ],
      "execution_count": null,
      "outputs": []
    },
    {
      "cell_type": "code",
      "metadata": {
        "colab": {
          "base_uri": "https://localhost:8080/"
        },
        "id": "XMgqQusGZ2hk",
        "outputId": "d2ee2363-c806-4752-8f11-f652aa641668"
      },
      "source": [
        "model = LSTM_D_out()\n",
        "model.summary()"
      ],
      "execution_count": null,
      "outputs": [
        {
          "output_type": "stream",
          "text": [
            "Model: \"sequential_5\"\n",
            "_________________________________________________________________\n",
            "Layer (type)                 Output Shape              Param #   \n",
            "=================================================================\n",
            "embedding_4 (Embedding)      (None, 500, 64)           320000    \n",
            "_________________________________________________________________\n",
            "dropout (Dropout)            (None, 500, 64)           0         \n",
            "_________________________________________________________________\n",
            "lstm_1 (LSTM)                (None, 100)               66000     \n",
            "_________________________________________________________________\n",
            "dropout_1 (Dropout)          (None, 100)               0         \n",
            "_________________________________________________________________\n",
            "dense_1 (Dense)              (None, 1)                 101       \n",
            "=================================================================\n",
            "Total params: 386,101\n",
            "Trainable params: 386,101\n",
            "Non-trainable params: 0\n",
            "_________________________________________________________________\n"
          ],
          "name": "stdout"
        }
      ]
    },
    {
      "cell_type": "code",
      "metadata": {
        "colab": {
          "base_uri": "https://localhost:8080/"
        },
        "id": "9Z5CUm9kZ2hl",
        "outputId": "ddbd2fb1-6eaa-4e23-c5f7-0ffe7c7e7b61"
      },
      "source": [
        "model.compile(loss='binary_crossentropy',optimizer='adam',metrics=['accuracy'])\n",
        "\n",
        "history = model.fit(train_sequences_matrix, y_train, \n",
        "          batch_size=batch_size, \n",
        "          epochs=epochs, \n",
        "          verbose=1, \n",
        "          validation_data=(test_sequences_matrix, y_test))"
      ],
      "execution_count": null,
      "outputs": [
        {
          "output_type": "stream",
          "text": [
            "Epoch 1/4\n",
            "313/313 [==============================] - 16s 45ms/step - loss: 0.4463 - accuracy: 0.8934 - val_loss: 0.2987 - val_accuracy: 0.8846\n",
            "Epoch 2/4\n",
            "313/313 [==============================] - 14s 45ms/step - loss: 0.1898 - accuracy: 0.8765 - val_loss: 0.2232 - val_accuracy: 0.8168\n",
            "Epoch 3/4\n",
            "313/313 [==============================] - 14s 45ms/step - loss: -0.1090 - accuracy: 0.8631 - val_loss: -0.0835 - val_accuracy: 0.8609\n",
            "Epoch 4/4\n",
            "313/313 [==============================] - 14s 45ms/step - loss: -0.1785 - accuracy: 0.8631 - val_loss: -0.3234 - val_accuracy: 0.8797\n"
          ],
          "name": "stdout"
        }
      ]
    },
    {
      "cell_type": "code",
      "metadata": {
        "colab": {
          "base_uri": "https://localhost:8080/",
          "height": 573
        },
        "id": "wNpXpZA6Z2hl",
        "outputId": "d4059c6f-7600-426c-c5d9-44534ae0e4b0"
      },
      "source": [
        "plot(history)"
      ],
      "execution_count": null,
      "outputs": [
        {
          "output_type": "display_data",
          "data": {
            "image/png": "[encoded data removed]",
            "text/plain": [
              "<Figure size 432x288 with 1 Axes>"
            ]
          },
          "metadata": {
            "tags": [],
            "needs_background": "light"
          }
        },
        {
          "output_type": "display_data",
          "data": {
            "image/png": "[encoded data removed]",
            "text/plain": [
              "<Figure size 432x288 with 1 Axes>"
            ]
          },
          "metadata": {
            "tags": [],
            "needs_background": "light"
          }
        }
      ]
    },
    {
      "cell_type": "code",
      "metadata": {
        "colab": {
          "base_uri": "https://localhost:8080/"
        },
        "id": "QvaGB-1wZ2hl",
        "outputId": "b7e9067e-df37-4642-8968-b90c53541c87"
      },
      "source": [
        "model.evaluate(test_sequences_matrix, y_test)"
      ],
      "execution_count": null,
      "outputs": [
        {
          "output_type": "stream",
          "text": [
            "313/313 [==============================] - 9s 30ms/step - loss: -0.7627 - accuracy: 0.8525\n"
          ],
          "name": "stdout"
        },
        {
          "output_type": "execute_result",
          "data": {
            "text/plain": [
              "[-0.7627005577087402, 0.8524590134620667]"
            ]
          },
          "metadata": {
            "tags": []
          },
          "execution_count": 52
        }
      ]
    },
    {
      "cell_type": "code",
      "metadata": {
        "colab": {
          "base_uri": "https://localhost:8080/",
          "height": 318
        },
        "id": "jn23E6pQZ2hm",
        "outputId": "db5e74d9-fea9-49f7-ab16-f6d9f2531808"
      },
      "source": [
        "y_predict = model.predict_proba(test_sequences_matrix)\n",
        "\n",
        "plt.hist(y_predict)\n",
        "_ = plt.axvline(x=.5, color='orange')"
      ],
      "execution_count": null,
      "outputs": [
        {
          "output_type": "stream",
          "text": [
            "/usr/local/lib/python3.6/dist-packages/tensorflow/python/keras/engine/sequential.py:425: UserWarning: `model.predict_proba()` is deprecated and will be removed after 2021-01-01. Please use `model.predict()` instead.\n",
            "  warnings.warn('`model.predict_proba()` is deprecated and '\n"
          ],
          "name": "stderr"
        },
        {
          "output_type": "display_data",
          "data": {
            "image/png": "[encoded data removed]",
            "text/plain": [
              "<Figure size 432x288 with 1 Axes>"
            ]
          },
          "metadata": {
            "tags": [],
            "needs_background": "light"
          }
        }
      ]
    },
    {
      "cell_type": "code",
      "metadata": {
        "colab": {
          "base_uri": "https://localhost:8080/"
        },
        "id": "IFiKDxtiZ2hm",
        "outputId": "0e9c1d68-823f-48d4-8c57-1987f0445745"
      },
      "source": [
        "sen = 'بسیار مزخرف'\n",
        "sen_sequences = token.texts_to_sequences(sen)\n",
        "sen_sequences_pad = pad_sequences(sen_sequences, maxlen=max_text_length)\n",
        "\n",
        "pre = model.predict(sen_sequences_pad)\n",
        "print(pre)"
      ],
      "execution_count": null,
      "outputs": [
        {
          "output_type": "stream",
          "text": [
            "[[0.04858617]\n",
            " [0.9525111 ]\n",
            " [0.8636789 ]\n",
            " [0.01721057]\n",
            " [0.2548307 ]\n",
            " [0.61824906]\n",
            " [0.9701086 ]\n",
            " [0.70582837]\n",
            " [0.61824906]\n",
            " [0.2548307 ]\n",
            " [0.61824906]]\n"
          ],
          "name": "stdout"
        }
      ]
    },
    {
      "cell_type": "code",
      "metadata": {
        "colab": {
          "base_uri": "https://localhost:8080/"
        },
        "id": "9Ry6jeT3Z2hm",
        "outputId": "3e66b324-022a-4400-826c-93f05a8a3877"
      },
      "source": [
        "sen = 'بسیار عالی'\n",
        "sen_sequences = token.texts_to_sequences(sen)\n",
        "sen_sequences_pad = pad_sequences(sen_sequences, maxlen=max_text_length)\n",
        "\n",
        "pre = model.predict_classes(sen_sequences_pad)\n",
        "print(pre)"
      ],
      "execution_count": null,
      "outputs": [
        {
          "output_type": "stream",
          "text": [
            "[[0]\n",
            " [1]\n",
            " [1]\n",
            " [0]\n",
            " [0]\n",
            " [1]\n",
            " [1]\n",
            " [0]\n",
            " [1]\n",
            " [1]]\n"
          ],
          "name": "stdout"
        },
        {
          "output_type": "stream",
          "text": [
            "/usr/local/lib/python3.6/dist-packages/tensorflow/python/keras/engine/sequential.py:450: UserWarning: `model.predict_classes()` is deprecated and will be removed after 2021-01-01. Please use instead:* `np.argmax(model.predict(x), axis=-1)`,   if your model does multi-class classification   (e.g. if it uses a `softmax` last-layer activation).* `(model.predict(x) > 0.5).astype(\"int32\")`,   if your model does binary classification   (e.g. if it uses a `sigmoid` last-layer activation).\n",
            "  warnings.warn('`model.predict_classes()` is deprecated and '\n"
          ],
          "name": "stderr"
        }
      ]
    },
    {
      "cell_type": "markdown",
      "metadata": {
        "id": "QHpltBSPhrFz"
      },
      "source": [
        "## LSTM 256"
      ]
    },
    {
      "cell_type": "code",
      "metadata": {
        "id": "qcKFQFjQhrFz"
      },
      "source": [
        "def LSTM_D_out():\n",
        "  model = Sequential()\n",
        "  model.add(Embedding(n_unique_words, n_dim, input_length=max_text_length))\n",
        "  model.add(Dropout(0.7))\n",
        "  model.add(LSTM(256))\n",
        "  # model.add(Dropout(0.2))\n",
        "  model.add(Dense(1, activation='sigmoid'))\n",
        "  return model"
      ],
      "execution_count": null,
      "outputs": []
    },
    {
      "cell_type": "code",
      "metadata": {
        "colab": {
          "base_uri": "https://localhost:8080/"
        },
        "id": "i5S-kS_ChrF0",
        "outputId": "769fe614-0cbe-43dc-9c09-e7f19103d203"
      },
      "source": [
        "model = LSTM_D_out()\n",
        "model.summary()"
      ],
      "execution_count": null,
      "outputs": [
        {
          "output_type": "stream",
          "text": [
            "Model: \"sequential_6\"\n",
            "_________________________________________________________________\n",
            "Layer (type)                 Output Shape              Param #   \n",
            "=================================================================\n",
            "embedding_5 (Embedding)      (None, 500, 64)           320000    \n",
            "_________________________________________________________________\n",
            "dropout_2 (Dropout)          (None, 500, 64)           0         \n",
            "_________________________________________________________________\n",
            "lstm_2 (LSTM)                (None, 256)               328704    \n",
            "_________________________________________________________________\n",
            "dense_2 (Dense)              (None, 1)                 257       \n",
            "=================================================================\n",
            "Total params: 648,961\n",
            "Trainable params: 648,961\n",
            "Non-trainable params: 0\n",
            "_________________________________________________________________\n"
          ],
          "name": "stdout"
        }
      ]
    },
    {
      "cell_type": "code",
      "metadata": {
        "colab": {
          "base_uri": "https://localhost:8080/"
        },
        "id": "Pf9sroqWhrF0",
        "outputId": "a483be2c-2811-4f01-826b-2615af83462f"
      },
      "source": [
        "model.compile(loss='binary_crossentropy',optimizer='adam',metrics=['accuracy'])\n",
        "\n",
        "history = model.fit(train_sequences_matrix, y_train, \n",
        "          batch_size=batch_size, \n",
        "          epochs=10, \n",
        "          verbose=1, \n",
        "          validation_data=(test_sequences_matrix, y_test))"
      ],
      "execution_count": null,
      "outputs": [
        {
          "output_type": "stream",
          "text": [
            "Epoch 1/10\n",
            "313/313 [==============================] - 24s 72ms/step - loss: 2.6039 - accuracy: 0.7668 - val_loss: -0.1356 - val_accuracy: 0.8444\n",
            "Epoch 2/10\n",
            "313/313 [==============================] - 22s 71ms/step - loss: 0.0247 - accuracy: 0.8428 - val_loss: 0.1277 - val_accuracy: 0.8829\n",
            "Epoch 3/10\n",
            "313/313 [==============================] - 22s 71ms/step - loss: -0.1398 - accuracy: 0.8657 - val_loss: -0.2961 - val_accuracy: 0.8899\n",
            "Epoch 4/10\n",
            "313/313 [==============================] - 23s 72ms/step - loss: -0.4440 - accuracy: 0.8667 - val_loss: -0.5539 - val_accuracy: 0.8905\n",
            "Epoch 5/10\n",
            "313/313 [==============================] - 22s 71ms/step - loss: -0.4252 - accuracy: 0.8216 - val_loss: -0.5157 - val_accuracy: 0.8838\n",
            "Epoch 6/10\n",
            "313/313 [==============================] - 22s 71ms/step - loss: -0.6374 - accuracy: 0.8666 - val_loss: 0.0954 - val_accuracy: 0.8620\n",
            "Epoch 7/10\n",
            "313/313 [==============================] - 22s 71ms/step - loss: -0.0478 - accuracy: 0.8551 - val_loss: -0.1104 - val_accuracy: 0.8763\n",
            "Epoch 8/10\n",
            "313/313 [==============================] - 22s 71ms/step - loss: -0.4516 - accuracy: 0.8620 - val_loss: -0.4237 - val_accuracy: 0.8715\n",
            "Epoch 9/10\n",
            "313/313 [==============================] - 22s 71ms/step - loss: -1.0153 - accuracy: 0.8623 - val_loss: -1.2143 - val_accuracy: 0.8773\n",
            "Epoch 10/10\n",
            "313/313 [==============================] - 23s 72ms/step - loss: -2.0553 - accuracy: 0.8590 - val_loss: -1.8737 - val_accuracy: 0.8815\n"
          ],
          "name": "stdout"
        }
      ]
    },
    {
      "cell_type": "code",
      "metadata": {
        "colab": {
          "base_uri": "https://localhost:8080/",
          "height": 573
        },
        "id": "1TpCHKpzhrF1",
        "outputId": "85f50918-83fd-4750-d4a9-cc7af962eb56"
      },
      "source": [
        "plot(history)"
      ],
      "execution_count": null,
      "outputs": [
        {
          "output_type": "display_data",
          "data": {
            "image/png": "[encoded data removed]",
            "text/plain": [
              "<Figure size 432x288 with 1 Axes>"
            ]
          },
          "metadata": {
            "tags": [],
            "needs_background": "light"
          }
        },
        {
          "output_type": "display_data",
          "data": {
            "image/png": "[encoded data removed]",
            "text/plain": [
              "<Figure size 432x288 with 1 Axes>"
            ]
          },
          "metadata": {
            "tags": [],
            "needs_background": "light"
          }
        }
      ]
    },
    {
      "cell_type": "code",
      "metadata": {
        "colab": {
          "base_uri": "https://localhost:8080/"
        },
        "id": "SkXwVGDHhrF1",
        "outputId": "3bd47414-0cba-4db3-f86b-2b3ba35ac404"
      },
      "source": [
        "model.evaluate(test_sequences_matrix, y_test)"
      ],
      "execution_count": null,
      "outputs": [
        {
          "output_type": "stream",
          "text": [
            "313/313 [==============================] - 5s 15ms/step - loss: -1.8737 - accuracy: 0.8815\n"
          ],
          "name": "stdout"
        },
        {
          "output_type": "execute_result",
          "data": {
            "text/plain": [
              "[-1.8736625909805298, 0.8815473914146423]"
            ]
          },
          "metadata": {
            "tags": []
          },
          "execution_count": 55
        }
      ]
    },
    {
      "cell_type": "code",
      "metadata": {
        "colab": {
          "base_uri": "https://localhost:8080/",
          "height": 318
        },
        "id": "3_velGWehrF1",
        "outputId": "01e373ac-a173-4009-9989-3bcb71257f17"
      },
      "source": [
        "y_predict = model.predict_proba(test_sequences_matrix)\n",
        "\n",
        "plt.hist(y_predict)\n",
        "_ = plt.axvline(x=.5, color='orange')"
      ],
      "execution_count": null,
      "outputs": [
        {
          "output_type": "stream",
          "text": [
            "/usr/local/lib/python3.6/dist-packages/tensorflow/python/keras/engine/sequential.py:425: UserWarning: `model.predict_proba()` is deprecated and will be removed after 2021-01-01. Please use `model.predict()` instead.\n",
            "  warnings.warn('`model.predict_proba()` is deprecated and '\n"
          ],
          "name": "stderr"
        },
        {
          "output_type": "display_data",
          "data": {
            "image/png": "[encoded data removed]",
            "text/plain": [
              "<Figure size 432x288 with 1 Axes>"
            ]
          },
          "metadata": {
            "tags": [],
            "needs_background": "light"
          }
        }
      ]
    },
    {
      "cell_type": "code",
      "metadata": {
        "colab": {
          "base_uri": "https://localhost:8080/"
        },
        "id": "BsUCOffPhrF2",
        "outputId": "2da3a7a2-687c-4a45-c73b-3dce94b47037"
      },
      "source": [
        "sen = 'بسیار مزخرف'\n",
        "sen_sequences = token.texts_to_sequences(sen)\n",
        "sen_sequences_pad = pad_sequences(sen_sequences, maxlen=max_text_length)\n",
        "\n",
        "pre = model.predict(sen_sequences_pad)\n",
        "print(pre)"
      ],
      "execution_count": null,
      "outputs": [
        {
          "output_type": "stream",
          "text": [
            "[[1.3606377e-02]\n",
            " [9.3375152e-01]\n",
            " [8.0214596e-01]\n",
            " [2.0806857e-07]\n",
            " [4.1632083e-01]\n",
            " [6.1240828e-01]\n",
            " [7.6929408e-01]\n",
            " [8.2309526e-01]\n",
            " [6.1240828e-01]\n",
            " [4.1632083e-01]\n",
            " [6.1240828e-01]]\n"
          ],
          "name": "stdout"
        }
      ]
    },
    {
      "cell_type": "code",
      "metadata": {
        "colab": {
          "base_uri": "https://localhost:8080/"
        },
        "id": "T7jVtrdWhrF2",
        "outputId": "adcb2861-e30b-4156-b37c-3d6133bf3875"
      },
      "source": [
        "sen = 'بسیار عالی'\n",
        "sen_sequences = token.texts_to_sequences(sen)\n",
        "sen_sequences_pad = pad_sequences(sen_sequences, maxlen=max_text_length)\n",
        "\n",
        "pre = model.predict_classes(sen_sequences_pad)\n",
        "print(pre)"
      ],
      "execution_count": null,
      "outputs": [
        {
          "output_type": "stream",
          "text": [
            "[[0]\n",
            " [1]\n",
            " [1]\n",
            " [0]\n",
            " [0]\n",
            " [1]\n",
            " [1]\n",
            " [0]\n",
            " [1]\n",
            " [1]]\n"
          ],
          "name": "stdout"
        },
        {
          "output_type": "stream",
          "text": [
            "/usr/local/lib/python3.6/dist-packages/tensorflow/python/keras/engine/sequential.py:450: UserWarning: `model.predict_classes()` is deprecated and will be removed after 2021-01-01. Please use instead:* `np.argmax(model.predict(x), axis=-1)`,   if your model does multi-class classification   (e.g. if it uses a `softmax` last-layer activation).* `(model.predict(x) > 0.5).astype(\"int32\")`,   if your model does binary classification   (e.g. if it uses a `sigmoid` last-layer activation).\n",
            "  warnings.warn('`model.predict_classes()` is deprecated and '\n"
          ],
          "name": "stderr"
        }
      ]
    },
    {
      "cell_type": "markdown",
      "metadata": {
        "id": "2AAnYt7amy2T"
      },
      "source": [
        "## LSTM 256 - Dense"
      ]
    },
    {
      "cell_type": "code",
      "metadata": {
        "id": "PQUr0iSBmy2i"
      },
      "source": [
        "def LSTM_D_out_Dence():\n",
        "  model = Sequential()\n",
        "  model.add(Embedding(n_unique_words, n_dim, input_length=max_text_length))\n",
        "  model.add(LSTM(256))\n",
        "  model.add(Dropout(0.7))\n",
        "  model.add(Dense(256, activation='relu'))\n",
        "  model.add(Dropout(0.2))\n",
        "  model.add(Dense(128, activation='relu'))\n",
        "  model.add(Dense(1, activation='sigmoid'))\n",
        "  return model"
      ],
      "execution_count": null,
      "outputs": []
    },
    {
      "cell_type": "code",
      "metadata": {
        "colab": {
          "base_uri": "https://localhost:8080/"
        },
        "id": "tVrfBhhdmy2j",
        "outputId": "d50c4ac5-3d27-489b-a1af-7d3bcf12c338"
      },
      "source": [
        "model = LSTM_D_out_Dence()\n",
        "model.summary()"
      ],
      "execution_count": null,
      "outputs": [
        {
          "output_type": "stream",
          "text": [
            "Model: \"sequential_8\"\n",
            "_________________________________________________________________\n",
            "Layer (type)                 Output Shape              Param #   \n",
            "=================================================================\n",
            "embedding_7 (Embedding)      (None, 500, 64)           320000    \n",
            "_________________________________________________________________\n",
            "lstm_4 (LSTM)                (None, 256)               328704    \n",
            "_________________________________________________________________\n",
            "dropout_5 (Dropout)          (None, 256)               0         \n",
            "_________________________________________________________________\n",
            "dense_6 (Dense)              (None, 256)               65792     \n",
            "_________________________________________________________________\n",
            "dropout_6 (Dropout)          (None, 256)               0         \n",
            "_________________________________________________________________\n",
            "dense_7 (Dense)              (None, 128)               32896     \n",
            "_________________________________________________________________\n",
            "dense_8 (Dense)              (None, 1)                 129       \n",
            "=================================================================\n",
            "Total params: 747,521\n",
            "Trainable params: 747,521\n",
            "Non-trainable params: 0\n",
            "_________________________________________________________________\n"
          ],
          "name": "stdout"
        }
      ]
    },
    {
      "cell_type": "code",
      "metadata": {
        "colab": {
          "base_uri": "https://localhost:8080/"
        },
        "id": "0oAm2juZmy2k",
        "outputId": "697f24ad-d816-40e1-84f8-9f9631189a65"
      },
      "source": [
        "model.compile(loss='binary_crossentropy',optimizer='adam',metrics=['accuracy'])\n",
        "\n",
        "history = model.fit(train_sequences_matrix, y_train, \n",
        "          batch_size=batch_size, \n",
        "          epochs=10, \n",
        "          verbose=1, \n",
        "          validation_data=(test_sequences_matrix, y_test))"
      ],
      "execution_count": null,
      "outputs": [
        {
          "output_type": "stream",
          "text": [
            "Epoch 1/10\n",
            "313/313 [==============================] - 25s 74ms/step - loss: 1.1087 - accuracy: 0.8888 - val_loss: 0.2169 - val_accuracy: 0.9017\n",
            "Epoch 2/10\n",
            "313/313 [==============================] - 22s 71ms/step - loss: -0.2245 - accuracy: 0.9005 - val_loss: -5.8880 - val_accuracy: 0.9043\n",
            "Epoch 3/10\n",
            "313/313 [==============================] - 23s 72ms/step - loss: -14.0859 - accuracy: 0.8895 - val_loss: -62.5623 - val_accuracy: 0.9096\n",
            "Epoch 4/10\n",
            "313/313 [==============================] - 22s 71ms/step - loss: 176.2098 - accuracy: 0.8536 - val_loss: -111.4943 - val_accuracy: 0.9102\n",
            "Epoch 5/10\n",
            "313/313 [==============================] - 22s 71ms/step - loss: -613.1508 - accuracy: 0.8468 - val_loss: -5044.8911 - val_accuracy: 0.9003\n",
            "Epoch 6/10\n",
            "313/313 [==============================] - 22s 71ms/step - loss: -8351.0617 - accuracy: 0.8912 - val_loss: -36467.6641 - val_accuracy: 0.9080\n",
            "Epoch 7/10\n",
            "313/313 [==============================] - 22s 72ms/step - loss: -53589.2096 - accuracy: 0.8778 - val_loss: -133476.0781 - val_accuracy: 0.9119\n",
            "Epoch 8/10\n",
            "313/313 [==============================] - 22s 71ms/step - loss: 91053.5822 - accuracy: 0.7961 - val_loss: -64113.6836 - val_accuracy: 0.9096\n",
            "Epoch 9/10\n",
            "313/313 [==============================] - 22s 71ms/step - loss: -90342.7320 - accuracy: 0.8950 - val_loss: -109114.6641 - val_accuracy: 0.9074\n",
            "Epoch 10/10\n",
            "313/313 [==============================] - 22s 71ms/step - loss: -123676.1178 - accuracy: 0.8491 - val_loss: -154694.3750 - val_accuracy: 0.9017\n"
          ],
          "name": "stdout"
        }
      ]
    },
    {
      "cell_type": "code",
      "metadata": {
        "colab": {
          "base_uri": "https://localhost:8080/",
          "height": 573
        },
        "id": "O3z7mKPZmy2l",
        "outputId": "9c864615-018b-4b52-9df5-c2c0bb604427"
      },
      "source": [
        "plot(history)"
      ],
      "execution_count": null,
      "outputs": [
        {
          "output_type": "display_data",
          "data": {
            "image/png": "[encoded data removed]",
            "text/plain": [
              "<Figure size 432x288 with 1 Axes>"
            ]
          },
          "metadata": {
            "tags": [],
            "needs_background": "light"
          }
        },
        {
          "output_type": "display_data",
          "data": {
            "image/png": "[encoded data removed]",
            "text/plain": [
              "<Figure size 432x288 with 1 Axes>"
            ]
          },
          "metadata": {
            "tags": [],
            "needs_background": "light"
          }
        }
      ]
    },
    {
      "cell_type": "code",
      "metadata": {
        "colab": {
          "base_uri": "https://localhost:8080/"
        },
        "id": "9RYTHdgomy2l",
        "outputId": "7e460752-d66d-4e97-a5e7-25b272401f64"
      },
      "source": [
        "model.evaluate(test_sequences_matrix, y_test)"
      ],
      "execution_count": null,
      "outputs": [
        {
          "output_type": "stream",
          "text": [
            "313/313 [==============================] - 5s 14ms/step - loss: -154694.4688 - accuracy: 0.9017\n"
          ],
          "name": "stdout"
        },
        {
          "output_type": "execute_result",
          "data": {
            "text/plain": [
              "[-154694.46875, 0.9017392992973328]"
            ]
          },
          "metadata": {
            "tags": []
          },
          "execution_count": 68
        }
      ]
    },
    {
      "cell_type": "code",
      "metadata": {
        "colab": {
          "base_uri": "https://localhost:8080/",
          "height": 318
        },
        "id": "sxmqJZSvmy2m",
        "outputId": "34f038f0-b131-4d2c-da5d-a72b7c73a61a"
      },
      "source": [
        "y_predict = model.predict_proba(test_sequences_matrix)\n",
        "\n",
        "plt.hist(y_predict)\n",
        "_ = plt.axvline(x=.5, color='orange')"
      ],
      "execution_count": null,
      "outputs": [
        {
          "output_type": "stream",
          "text": [
            "/usr/local/lib/python3.6/dist-packages/tensorflow/python/keras/engine/sequential.py:425: UserWarning: `model.predict_proba()` is deprecated and will be removed after 2021-01-01. Please use `model.predict()` instead.\n",
            "  warnings.warn('`model.predict_proba()` is deprecated and '\n"
          ],
          "name": "stderr"
        },
        {
          "output_type": "display_data",
          "data": {
            "image/png": "[encoded data removed]",
            "text/plain": [
              "<Figure size 432x288 with 1 Axes>"
            ]
          },
          "metadata": {
            "tags": [],
            "needs_background": "light"
          }
        }
      ]
    },
    {
      "cell_type": "code",
      "metadata": {
        "colab": {
          "base_uri": "https://localhost:8080/"
        },
        "id": "Ty_PhjZimy2m",
        "outputId": "071413b3-26de-4b52-a145-6381730cb690"
      },
      "source": [
        "sen = 'بسیار مزخرف'\n",
        "sen_sequences = token.texts_to_sequences(sen)\n",
        "sen_sequences_pad = pad_sequences(sen_sequences, maxlen=max_text_length)\n",
        "\n",
        "pre = model.predict(sen_sequences_pad)\n",
        "print(pre)"
      ],
      "execution_count": null,
      "outputs": [
        {
          "output_type": "stream",
          "text": [
            "[[0.000000e+00]\n",
            " [0.000000e+00]\n",
            " [0.000000e+00]\n",
            " [0.000000e+00]\n",
            " [0.000000e+00]\n",
            " [0.000000e+00]\n",
            " [7.848537e-12]\n",
            " [0.000000e+00]\n",
            " [0.000000e+00]\n",
            " [0.000000e+00]\n",
            " [0.000000e+00]]\n"
          ],
          "name": "stdout"
        }
      ]
    },
    {
      "cell_type": "code",
      "metadata": {
        "colab": {
          "base_uri": "https://localhost:8080/"
        },
        "id": "i2oT_8aWmy2n",
        "outputId": "cb24417c-a75e-4b2f-83a7-df7d397501c2"
      },
      "source": [
        "sen = 'بسیار عالی'\n",
        "sen_sequences = token.texts_to_sequences(sen)\n",
        "sen_sequences_pad = pad_sequences(sen_sequences, maxlen=max_text_length)\n",
        "\n",
        "pre = model.predict_classes(sen_sequences_pad)\n",
        "print(pre)"
      ],
      "execution_count": null,
      "outputs": [
        {
          "output_type": "stream",
          "text": [
            "[[0]\n",
            " [0]\n",
            " [0]\n",
            " [0]\n",
            " [0]\n",
            " [0]\n",
            " [0]\n",
            " [0]\n",
            " [0]\n",
            " [0]]\n"
          ],
          "name": "stdout"
        },
        {
          "output_type": "stream",
          "text": [
            "/usr/local/lib/python3.6/dist-packages/tensorflow/python/keras/engine/sequential.py:450: UserWarning: `model.predict_classes()` is deprecated and will be removed after 2021-01-01. Please use instead:* `np.argmax(model.predict(x), axis=-1)`,   if your model does multi-class classification   (e.g. if it uses a `softmax` last-layer activation).* `(model.predict(x) > 0.5).astype(\"int32\")`,   if your model does binary classification   (e.g. if it uses a `sigmoid` last-layer activation).\n",
            "  warnings.warn('`model.predict_classes()` is deprecated and '\n"
          ],
          "name": "stderr"
        }
      ]
    },
    {
      "cell_type": "markdown",
      "metadata": {
        "id": "q-RL6HqdZ0Qj"
      },
      "source": [
        "#LSTM Drop out (in)"
      ]
    },
    {
      "cell_type": "markdown",
      "metadata": {
        "id": "eDPv5eaInl-d"
      },
      "source": [
        "## LSTM 256 - Dense"
      ]
    },
    {
      "cell_type": "code",
      "metadata": {
        "id": "U0IMdz_Vnl-o"
      },
      "source": [
        "def LSTM_D_IN():\n",
        "    model = Sequential()\n",
        "    model.add(Embedding(n_unique_words, n_dim, input_length=max_text_length))\n",
        "    model.add(LSTM(100, dropout=0.2, recurrent_dropout=0.2))\n",
        "    model.add(Dropout(0.7))\n",
        "    model.add(Dense(256, activation='relu'))\n",
        "    model.add(Dropout(0.2))\n",
        "    model.add(Dense(128, activation='relu'))\n",
        "    model.add(Dense(1, activation='sigmoid'))\n",
        "    return model"
      ],
      "execution_count": null,
      "outputs": []
    },
    {
      "cell_type": "code",
      "metadata": {
        "colab": {
          "base_uri": "https://localhost:8080/"
        },
        "id": "oVaI5KU3nl-p",
        "outputId": "a0dbfbae-84a2-4fef-af82-a13d80a6a311"
      },
      "source": [
        "model = LSTM_D_IN()\n",
        "model.summary()"
      ],
      "execution_count": null,
      "outputs": [
        {
          "output_type": "stream",
          "text": [
            "WARNING:tensorflow:Layer lstm_5 will not use cuDNN kernel since it doesn't meet the cuDNN kernel criteria. It will use generic GPU kernel as fallback when running on GPU\n",
            "Model: \"sequential_9\"\n",
            "_________________________________________________________________\n",
            "Layer (type)                 Output Shape              Param #   \n",
            "=================================================================\n",
            "embedding_8 (Embedding)      (None, 500, 64)           320000    \n",
            "_________________________________________________________________\n",
            "lstm_5 (LSTM)                (None, 100)               66000     \n",
            "_________________________________________________________________\n",
            "dropout_7 (Dropout)          (None, 100)               0         \n",
            "_________________________________________________________________\n",
            "dense_9 (Dense)              (None, 256)               25856     \n",
            "_________________________________________________________________\n",
            "dropout_8 (Dropout)          (None, 256)               0         \n",
            "_________________________________________________________________\n",
            "dense_10 (Dense)             (None, 128)               32896     \n",
            "_________________________________________________________________\n",
            "dense_11 (Dense)             (None, 1)                 129       \n",
            "=================================================================\n",
            "Total params: 444,881\n",
            "Trainable params: 444,881\n",
            "Non-trainable params: 0\n",
            "_________________________________________________________________\n"
          ],
          "name": "stdout"
        }
      ]
    },
    {
      "cell_type": "code",
      "metadata": {
        "colab": {
          "base_uri": "https://localhost:8080/"
        },
        "id": "Jba2DVxcnl-p",
        "outputId": "3d477488-76ed-472d-8e57-57a79141ff20"
      },
      "source": [
        "model.compile(loss='binary_crossentropy',optimizer='adam',metrics=['accuracy'])\n",
        "\n",
        "history = model.fit(train_sequences_matrix, y_train, \n",
        "          batch_size=batch_size, \n",
        "          epochs=epochs, \n",
        "          verbose=1, \n",
        "          validation_data=(test_sequences_matrix, y_test))"
      ],
      "execution_count": null,
      "outputs": [
        {
          "output_type": "stream",
          "text": [
            "Epoch 1/4\n",
            "313/313 [==============================] - 583s 2s/step - loss: -348.3504 - accuracy: 0.8010 - val_loss: -1882.6884 - val_accuracy: 0.8917\n",
            "Epoch 2/4\n",
            "313/313 [==============================] - 586s 2s/step - loss: -4617.2337 - accuracy: 0.8816 - val_loss: -11495.6748 - val_accuracy: 0.8919\n",
            "Epoch 3/4\n",
            "313/313 [==============================] - 590s 2s/step - loss: -25317.9639 - accuracy: 0.8848 - val_loss: -37251.7617 - val_accuracy: 0.9025\n",
            "Epoch 4/4\n",
            "313/313 [==============================] - 598s 2s/step - loss: -74781.5330 - accuracy: 0.8941 - val_loss: -89980.8047 - val_accuracy: 0.8923\n"
          ],
          "name": "stdout"
        }
      ]
    }
  ]
}